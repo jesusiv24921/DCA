{
 "cells": [
  {
   "cell_type": "markdown",
   "metadata": {},
   "source": [
    "# Curvas de Declinación\n",
    "\n",
    "\n",
    "Las curvas de declinación de producción son herramientas esenciales para predecir la producción futura de un pozo o yacimiento a partir de datos históricos. Estas curvas ayudan a los ingenieros a entender el comportamiento del yacimiento y a tomar decisiones informadas sobre la gestión y optimización de la producción.\n",
    "\n",
    "\n",
    "\n",
    "## Tipos de Curvas de Declinación\n",
    "\n",
    "Existen varios tipos de curvas de declinación, cada una adecuada para diferentes condiciones de yacimientos y mecanismos de producción. Las más comunes son:\n",
    "\n",
    "\n",
    "\n",
    "1. **Curva de declinación Exponencial**: \n",
    "* En esta declinación, la tasa de producción disminuye a un ritmo constante en términos porcentuales. Es utilizada cuando la producción disminuye debido a la presión decreciente del yacimiento y no se presentan otros factores significativos que afecten la producción.\n",
    "* Formula: $q=qie^{-Dit}$ \n",
    "\n",
    "\n",
    "2. **Curva de Declinación Hyperbólica**:\n",
    "* En esta declinación, la tasa de producción disminuye más lentamente al inicio y luego más rápido. Es útil para yacimientos donde los mecanismos de recuperación son más complejos.\n",
    "* Formula:  $q=\\frac{qi}{(1+bDit)^{1/b}}$ \n",
    "\n",
    "3. **Curva de Declinación Armónica**:\n",
    "* En este caso, la tasa de declinación disminuye a medida que el tiempo avanza. Se aplica cuando la declinación se ralentiza con el tiempo y puede ser un caso especial de la declinación hiperbólica cuando (b=1)\n",
    "* Formula:  $q=\\frac{qi}{(1+Dit)}$ \n",
    "\n",
    "\n",
    "\n",
    "\n",
    "# Contenido\n",
    "- [ 1 - Introducción ](#1)\n",
    "  - [ 1.1 Objetivo](#1.1)\n",
    "- [ 2 - Imports Necesarios](#2)\n",
    "- [ 3 - Exploración](#3)\n",
    "  - [ 3.1 Datos](#3.1)\n",
    "  - [ 3.2 Visualización](#3.2)\n",
    "- [ 4 - Funciones Auxiliares](#4)\n",
    "  - [ 4.1 - Función de declinación Exponencial](#4.1)\n",
    "  - [ 4.2 - Función de declinación Armónica](#4.2)\n",
    "  - [ 4.3 - Función de declinación Hyperbólica](#4.3)\n",
    "- [ 5 - Regresión Lineal](#5)\n",
    "- [ 6 - Curva de Declinación Exponencial](#6)\n",
    "- [ 7 - Curva de Declinación Hyperbólica](#7)\n",
    "- [ 8 - Curva de Declinación Armónica](#7)\n",
    "\n"
   ]
  },
  {
   "cell_type": "markdown",
   "metadata": {},
   "source": [
    "<a name=\"1\"></a>\n",
    "\n",
    "## 1 - Introducción \n",
    "En este notebook, exploraremos las principales curvas de declinación utilizadas en la industria petrolera:\n",
    "1. Curva de Declinación Exponencial \n",
    "2. Curva de Declinación Hiperbólica\n",
    "3. Curva de Declinación Armónica\n",
    "Cada uno de estos modelos tiene su propio conjunto de supuestos y aplicabilidad dependiendo de las características del yacimiento.\n",
    "\n",
    "\n",
    "\n",
    "<a name=\"1.1\"></a>\n",
    "\n",
    "### 1.1 Objetivo\n",
    "\n",
    "El objetivo de este estudio es ajustar estos modelos de declinación a datos históricos de producción para realizar predicciones precisas y optimizar la gestión del yacimiento. Se trabajará con un conjunto de datos en formato csv que contiene la producción histórica de un pozo o yacimiento.\n",
    "\n"
   ]
  },
  {
   "cell_type": "markdown",
   "metadata": {},
   "source": [
    "<a name=\"2\"></a>\n",
    "## 2 - Imports Necesarios\n",
    "\n",
    "El siguiente bloque de código importará las bibliotecas necesarias para ejecutar este notebook.."
   ]
  },
  {
   "cell_type": "code",
   "execution_count": 66,
   "metadata": {},
   "outputs": [],
   "source": [
    "import pandas as pd\n",
    "import numpy as np\n",
    "import matplotlib.pyplot as plt\n",
    "import seaborn as sns\n",
    "import plotly.express as px\n",
    "import plotly.graph_objects as go\n",
    "from scipy.optimize import curve_fit\n",
    "from sklearn.linear_model import LinearRegression\n",
    "from sklearn.metrics import mean_squared_error, mean_absolute_error, r2_score\n",
    "from sklearn.preprocessing import MinMaxScaler\n",
    "import warnings\n",
    "import plotly.io as pio\n",
    "pio.renderers.default = 'notebook'"
   ]
  },
  {
   "cell_type": "markdown",
   "metadata": {},
   "source": [
    "<a name=\"2\"></a>\n",
    "## 3 - Exploración\n",
    "\n",
    "\n",
    "<a name=\"3.1\"></a>\n",
    "\n",
    "### 3.1 Datos\n",
    "\n",
    "Los datos utilizados en este análisis están almacenados en un archivo CSV y contienen las siguientes Columnas:\n",
    "* Fecha\n",
    "* Producción de Petróleo (bbl/d)\n",
    "* Producción de Agua (bbl/d)"
   ]
  },
  {
   "cell_type": "code",
   "execution_count": 67,
   "metadata": {},
   "outputs": [],
   "source": [
    "#Leer la data a trabajar\n",
    "df=pd.read_csv('declinación.csv', sep=',')"
   ]
  },
  {
   "cell_type": "code",
   "execution_count": 68,
   "metadata": {},
   "outputs": [
    {
     "name": "stdout",
     "output_type": "stream",
     "text": [
      "Pozo             object\n",
      "Fecha            object\n",
      "qoP [bbl/DC]    float64\n",
      "qwP [bbl/DC]    float64\n",
      "dtype: object\n"
     ]
    },
    {
     "data": {
      "text/html": [
       "<div>\n",
       "<style scoped>\n",
       "    .dataframe tbody tr th:only-of-type {\n",
       "        vertical-align: middle;\n",
       "    }\n",
       "\n",
       "    .dataframe tbody tr th {\n",
       "        vertical-align: top;\n",
       "    }\n",
       "\n",
       "    .dataframe thead th {\n",
       "        text-align: right;\n",
       "    }\n",
       "</style>\n",
       "<table border=\"1\" class=\"dataframe\">\n",
       "  <thead>\n",
       "    <tr style=\"text-align: right;\">\n",
       "      <th></th>\n",
       "      <th>Pozo</th>\n",
       "      <th>Fecha</th>\n",
       "      <th>qoP [bbl/DC]</th>\n",
       "      <th>qwP [bbl/DC]</th>\n",
       "    </tr>\n",
       "  </thead>\n",
       "  <tbody>\n",
       "    <tr>\n",
       "      <th>0</th>\n",
       "      <td>WELL1</td>\n",
       "      <td>1/05/2013</td>\n",
       "      <td>86.0</td>\n",
       "      <td>12.0</td>\n",
       "    </tr>\n",
       "    <tr>\n",
       "      <th>1</th>\n",
       "      <td>WELL1</td>\n",
       "      <td>1/06/2013</td>\n",
       "      <td>215.0</td>\n",
       "      <td>13.0</td>\n",
       "    </tr>\n",
       "    <tr>\n",
       "      <th>2</th>\n",
       "      <td>WELL1</td>\n",
       "      <td>1/07/2013</td>\n",
       "      <td>283.0</td>\n",
       "      <td>10.0</td>\n",
       "    </tr>\n",
       "    <tr>\n",
       "      <th>3</th>\n",
       "      <td>WELL1</td>\n",
       "      <td>1/08/2013</td>\n",
       "      <td>337.0</td>\n",
       "      <td>29.0</td>\n",
       "    </tr>\n",
       "    <tr>\n",
       "      <th>4</th>\n",
       "      <td>WELL1</td>\n",
       "      <td>1/09/2013</td>\n",
       "      <td>351.0</td>\n",
       "      <td>35.0</td>\n",
       "    </tr>\n",
       "  </tbody>\n",
       "</table>\n",
       "</div>"
      ],
      "text/plain": [
       "    Pozo      Fecha  qoP [bbl/DC]  qwP [bbl/DC]\n",
       "0  WELL1  1/05/2013          86.0          12.0\n",
       "1  WELL1  1/06/2013         215.0          13.0\n",
       "2  WELL1  1/07/2013         283.0          10.0\n",
       "3  WELL1  1/08/2013         337.0          29.0\n",
       "4  WELL1  1/09/2013         351.0          35.0"
      ]
     },
     "execution_count": 68,
     "metadata": {},
     "output_type": "execute_result"
    }
   ],
   "source": [
    "#Conocer el tipo de Datos\n",
    "print(df.dtypes)\n",
    "#Visualizar los primeros 5 registros.\n",
    "df.head()"
   ]
  },
  {
   "cell_type": "code",
   "execution_count": 69,
   "metadata": {},
   "outputs": [
    {
     "name": "stdout",
     "output_type": "stream",
     "text": [
      "Pozo                    object\n",
      "Fecha           datetime64[ns]\n",
      "qoP [bbl/DC]           float64\n",
      "qwP [bbl/DC]           float64\n",
      "dtype: object\n"
     ]
    }
   ],
   "source": [
    "#Se debe convertir la Feature Fecha al tipo Datetime\n",
    "df['Fecha']=pd.to_datetime(df['Fecha'], format='%d/%m/%Y')\n",
    "#Revisar el tipo de datos luego de Convertir la Columna Fecha\n",
    "print(df.dtypes)"
   ]
  },
  {
   "cell_type": "code",
   "execution_count": 70,
   "metadata": {},
   "outputs": [
    {
     "data": {
      "text/html": [
       "<div>\n",
       "<style scoped>\n",
       "    .dataframe tbody tr th:only-of-type {\n",
       "        vertical-align: middle;\n",
       "    }\n",
       "\n",
       "    .dataframe tbody tr th {\n",
       "        vertical-align: top;\n",
       "    }\n",
       "\n",
       "    .dataframe thead th {\n",
       "        text-align: right;\n",
       "    }\n",
       "</style>\n",
       "<table border=\"1\" class=\"dataframe\">\n",
       "  <thead>\n",
       "    <tr style=\"text-align: right;\">\n",
       "      <th></th>\n",
       "      <th>Fecha</th>\n",
       "      <th>qoP [bbl/DC]</th>\n",
       "      <th>qwP [bbl/DC]</th>\n",
       "    </tr>\n",
       "  </thead>\n",
       "  <tbody>\n",
       "    <tr>\n",
       "      <th>count</th>\n",
       "      <td>128</td>\n",
       "      <td>126.000000</td>\n",
       "      <td>126.000000</td>\n",
       "    </tr>\n",
       "    <tr>\n",
       "      <th>mean</th>\n",
       "      <td>2018-08-16 10:07:30</td>\n",
       "      <td>269.484127</td>\n",
       "      <td>439.571429</td>\n",
       "    </tr>\n",
       "    <tr>\n",
       "      <th>min</th>\n",
       "      <td>2013-05-01 00:00:00</td>\n",
       "      <td>77.000000</td>\n",
       "      <td>10.000000</td>\n",
       "    </tr>\n",
       "    <tr>\n",
       "      <th>25%</th>\n",
       "      <td>2015-12-24 06:00:00</td>\n",
       "      <td>173.750000</td>\n",
       "      <td>329.500000</td>\n",
       "    </tr>\n",
       "    <tr>\n",
       "      <th>50%</th>\n",
       "      <td>2018-08-16 12:00:00</td>\n",
       "      <td>216.000000</td>\n",
       "      <td>473.500000</td>\n",
       "    </tr>\n",
       "    <tr>\n",
       "      <th>75%</th>\n",
       "      <td>2021-04-08 12:00:00</td>\n",
       "      <td>350.750000</td>\n",
       "      <td>580.000000</td>\n",
       "    </tr>\n",
       "    <tr>\n",
       "      <th>max</th>\n",
       "      <td>2023-12-01 00:00:00</td>\n",
       "      <td>587.000000</td>\n",
       "      <td>904.000000</td>\n",
       "    </tr>\n",
       "    <tr>\n",
       "      <th>std</th>\n",
       "      <td>NaN</td>\n",
       "      <td>122.899161</td>\n",
       "      <td>213.290541</td>\n",
       "    </tr>\n",
       "  </tbody>\n",
       "</table>\n",
       "</div>"
      ],
      "text/plain": [
       "                     Fecha  qoP [bbl/DC]  qwP [bbl/DC]\n",
       "count                  128    126.000000    126.000000\n",
       "mean   2018-08-16 10:07:30    269.484127    439.571429\n",
       "min    2013-05-01 00:00:00     77.000000     10.000000\n",
       "25%    2015-12-24 06:00:00    173.750000    329.500000\n",
       "50%    2018-08-16 12:00:00    216.000000    473.500000\n",
       "75%    2021-04-08 12:00:00    350.750000    580.000000\n",
       "max    2023-12-01 00:00:00    587.000000    904.000000\n",
       "std                    NaN    122.899161    213.290541"
      ]
     },
     "execution_count": 70,
     "metadata": {},
     "output_type": "execute_result"
    }
   ],
   "source": [
    "#Obtener mestadísticas Descriptivas\n",
    "df.describe()\n"
   ]
  },
  {
   "cell_type": "code",
   "execution_count": 71,
   "metadata": {},
   "outputs": [
    {
     "data": {
      "text/html": [
       "<div>\n",
       "<style scoped>\n",
       "    .dataframe tbody tr th:only-of-type {\n",
       "        vertical-align: middle;\n",
       "    }\n",
       "\n",
       "    .dataframe tbody tr th {\n",
       "        vertical-align: top;\n",
       "    }\n",
       "\n",
       "    .dataframe thead th {\n",
       "        text-align: right;\n",
       "    }\n",
       "</style>\n",
       "<table border=\"1\" class=\"dataframe\">\n",
       "  <thead>\n",
       "    <tr style=\"text-align: right;\">\n",
       "      <th></th>\n",
       "      <th>Min Fecha</th>\n",
       "      <th>Max Fecha</th>\n",
       "      <th>Rango de Fechas (dias)</th>\n",
       "      <th>registros</th>\n",
       "    </tr>\n",
       "  </thead>\n",
       "  <tbody>\n",
       "    <tr>\n",
       "      <th>0</th>\n",
       "      <td>2013-05-01</td>\n",
       "      <td>2023-12-01</td>\n",
       "      <td>3866</td>\n",
       "      <td>128</td>\n",
       "    </tr>\n",
       "  </tbody>\n",
       "</table>\n",
       "</div>"
      ],
      "text/plain": [
       "   Min Fecha  Max Fecha  Rango de Fechas (dias)  registros\n",
       "0 2013-05-01 2023-12-01                    3866        128"
      ]
     },
     "execution_count": 71,
     "metadata": {},
     "output_type": "execute_result"
    }
   ],
   "source": [
    "date_stats={'Min Fecha':df['Fecha'].min(), 'Max Fecha':df['Fecha'].max(),\n",
    "            'Rango de Fechas (dias)':(df['Fecha'].max()-df['Fecha'].min()).days, 'registros':len(df['Fecha'])}\n",
    "date_stats_df=pd.DataFrame([date_stats])\n",
    "date_stats_df\n"
   ]
  },
  {
   "cell_type": "markdown",
   "metadata": {},
   "source": [
    "<a name=\"3.2\"></a>\n",
    "\n",
    "### 3.2 Visualización\n",
    "Se utilizarán dos formas para visualizar la data de producción de Aceite y de Agua.El primer gráfico será una representación estática de la producción e petróleo y agua a lo largo del tiempo.El segundo gráfico será una visualización dinámica que permitirá explorar los datos de manera interactiva."
   ]
  },
  {
   "cell_type": "code",
   "execution_count": 72,
   "metadata": {},
   "outputs": [
    {
     "data": {
      "image/png": "[encoded data removed]",
      "text/plain": [
       "<Figure size 600x400 with 1 Axes>"
      ]
     },
     "metadata": {},
     "output_type": "display_data"
    },
    {
     "data": {
      "image/png": "[encoded data removed]",
      "text/plain": [
       "<Figure size 600x400 with 2 Axes>"
      ]
     },
     "metadata": {},
     "output_type": "display_data"
    }
   ],
   "source": [
    "#Grafico Estático\n",
    "fig=plt.figure(figsize=(6,4), facecolor='#f1f1f1')\n",
    "\n",
    "plt.plot(df['Fecha'], df['qoP [bbl/DC]'],label='Petróleo', color='green', marker='o', markersize=4)\n",
    "plt.plot(df['Fecha'], df['qwP [bbl/DC]'],label='Agua', color='blue', marker='o', markersize=4)\n",
    "plt.xlabel('Fecha')\n",
    "plt.ylabel('bbl/d')\n",
    "plt.tight_layout()\n",
    "plt.grid(True)\n",
    "plt.legend()\n",
    "plt.xlim(pd.to_datetime('2013-05-01',format='%Y-%m-%d'))\n",
    "plt.show()\n",
    "\n",
    "#Gráfico estático\n",
    "fig, axes=plt.subplots(figsize=(6,4), nrows=2,facecolor='#f1f1f1', sharex=True)\n",
    "\n",
    "axes[0].plot(df['Fecha'], df['qoP [bbl/DC]'],label='Petróleo', color='green',marker='o', markersize=4)\n",
    "axes[0].legend()\n",
    "axes[0].grid(True)\n",
    "\n",
    "axes[0].set_ylabel('bbl/d')\n",
    "\n",
    "axes[1].plot(df['Fecha'], df['qwP [bbl/DC]'],label='Agua', color='blue',marker='o', markersize=4)\n",
    "axes[1].legend()\n",
    "axes[1].grid(True)\n",
    "axes[1].set_ylabel('bbl/d')\n",
    "\n",
    "plt.xlabel('Fecha')\n",
    "fig.tight_layout()\n",
    "plt.show()"
   ]
  },
  {
   "cell_type": "code",
   "execution_count": null,
   "metadata": {},
   "outputs": [],
   "source": [
    "# Gráfico Dinámico\n",
    "df['qoP [bbl/DC]']=df['qoP [bbl/DC]'].fillna(0)\n",
    "df['qwP [bbl/DC]']=df['qwP [bbl/DC]'].fillna(0)\n",
    "\n",
    "warnings.filterwarnings(\"ignore\", category=FutureWarning)\n",
    "\n",
    "Colores={'qoP [bbl/DC]':'green', 'qwP [bbl/DC]':'blue'}\n",
    "fig=px.line(df, x='Fecha', y=['qoP [bbl/DC]', 'qwP [bbl/DC]'],\n",
    "            color_discrete_map=Colores, markers='*')\n",
    "\n",
    "fig.update_layout(legend_title_text='Tipo de Producción',\n",
    "                  title={'text':'Producción de Aceite y Agua a lo largo del tiempo',\n",
    "                         'x':0.5, 'xanchor':'center', 'font':{'size':20,'family':'Arial', 'color':'black'}},\n",
    "                         xaxis_title={'text':'Fecha','font':{'size':16, 'family':'Arial'}},\n",
    "                         yaxis_title={'text':'Producción bbl/d','font':{'size':16, 'family':'Arial'}}\n",
    "                         )\n",
    "\n",
    "\n",
    "\n",
    "fig.show()\n"
   ]
  },
  {
   "cell_type": "markdown",
   "metadata": {},
   "source": [
    "<a name=\"4\"></a>\n",
    "## 4 - Funciones Auxiliares\n",
    "\n",
    "Esta sección presenta ### funciones auxiliares. Estas funciones ya han sido codificadas, eliminando la necesidad de preocuparse por su implementación. Sin embargo, es fundamental examinarlos detenidamente para comprender su uso adecuado."
   ]
  },
  {
   "cell_type": "markdown",
   "metadata": {},
   "source": [
    "<a name=\"4.1\"></a>\n",
    "### 4.1 - Función Declinación Exponencial\n",
    "\n",
    "This function has as input a [numpy array](https://numpy.org/doc/stable/reference/generated/numpy.array.html) and two indexes to swap the rows corresponding to those indexes. It **does not change the original matrix**, but returns a new one."
   ]
  },
  {
   "cell_type": "code",
   "execution_count": 583,
   "metadata": {},
   "outputs": [],
   "source": [
    "def func_exp(t, qi, Di):\n",
    "    \"\"\"\n",
    "    Modelo de declinación exponencial para la producción de petróleo.\n",
    "\n",
    "    Parámetros:\n",
    "    t (float o array-like): Tiempo en días desde el inicio de la medición.\n",
    "    qi (float): Tasa de producción inicial en bbl/DC (barriles por día).\n",
    "    Di (float): Tasa de declinación inicial (constante de declinación) en unidades inversas de tiempo (1/días).\n",
    "\n",
    "    Retorna:\n",
    "    float o array-like: Tasa de producción en el tiempo t.\n",
    "    \"\"\"\n",
    "    return qi * np.exp(-Di * t)"
   ]
  },
  {
   "cell_type": "markdown",
   "metadata": {},
   "source": [
    "<a name=\"4.2\"></a>\n",
    "### 4.2 - Función Declinación Armónica\n",
    "\n",
    "This function has as input a [numpy array](https://numpy.org/doc/stable/reference/generated/numpy.array.html) and two indexes to swap the rows corresponding to those indexes. It **does not change the original matrix**, but returns a new one."
   ]
  },
  {
   "cell_type": "code",
   "execution_count": 584,
   "metadata": {},
   "outputs": [],
   "source": [
    "def func_arm(t, qi, Di):\n",
    "    \"\"\"\n",
    "    Modelo de declinación armónica para la producción de petróleo.\n",
    "\n",
    "    Parámetros:\n",
    "    t (float o array-like): Tiempo en días desde el inicio de la medición.\n",
    "    qi (float): Tasa de producción inicial en bbl/DC (barriles por día).\n",
    "    Di (float): Tasa de declinación inicial en unidades inversas de tiempo (1/días).\n",
    "\n",
    "    Retorna:\n",
    "    float o array-like: Tasa de producción en el tiempo t.\n",
    "    \"\"\"\n",
    "    return qi / (1 + Di * t)"
   ]
  },
  {
   "cell_type": "markdown",
   "metadata": {},
   "source": [
    "<a name=\"3.3\"></a>\n",
    "### 4.3 - Función Declinación Hiperbólica\n",
    "\n",
    "This function has as input a [numpy array](https://numpy.org/doc/stable/reference/generated/numpy.array.html) and two indexes to swap the rows corresponding to those indexes. It **does not change the original matrix**, but returns a new one."
   ]
  },
  {
   "cell_type": "code",
   "execution_count": 585,
   "metadata": {},
   "outputs": [],
   "source": [
    "def func_hyper(t, qi, Di, b):\n",
    "    \"\"\"\n",
    "    Modelo de declinación hiperbólica para la producción de petróleo.\n",
    "\n",
    "    Parámetros:\n",
    "    t (float o array-like): Tiempo en días desde el inicio de la medición.\n",
    "    qi (float): Tasa de producción inicial en bbl/DC (barriles por día).\n",
    "    Di (float): Tasa de declinación inicial en unidades inversas de tiempo (1/días).\n",
    "    b (float): Exponente de la declinación hiperbólica.\n",
    "\n",
    "    Retorna:\n",
    "    float o array-like: Tasa de producción en el tiempo t.\n",
    "    \"\"\"\n",
    "    return qi / ((1 + b * Di * t) ** (1 / b))"
   ]
  },
  {
   "cell_type": "markdown",
   "metadata": {},
   "source": [
    "<a name=\"5\"></a>\n",
    "## 5 - Regresión Lineal\n",
    "\n",
    "Esta sección presenta ### funciones auxiliares. Estas funciones ya han sido codificadas, eliminando la necesidad de preocuparse por su implementación. Sin embargo, es fundamental examinarlos detenidamente para comprender su uso adecuado."
   ]
  },
  {
   "cell_type": "code",
   "execution_count": 586,
   "metadata": {},
   "outputs": [],
   "source": [
    "historical_dates = pd.date_range(start='2024-01-01', end='2029-12-31', freq='MS')\n",
    "df_pred=pd.DataFrame({'Fecha':historical_dates})\n",
    "df_pred['Fecha_Num'] = df_pred['Fecha'].map(pd.Timestamp.toordinal)\n",
    "df_=df.copy()"
   ]
  },
  {
   "cell_type": "code",
   "execution_count": 587,
   "metadata": {},
   "outputs": [
    {
     "name": "stdout",
     "output_type": "stream",
     "text": [
      "Métricas para la predicción de qoP:\n",
      "MSE: 3672.395764775594\n",
      "MAE: 42.658725742631674\n",
      "R²: 0.13334920708013887\n"
     ]
    }
   ],
   "source": [
    "df=df[(df['Fecha']>='2017-01-01')]\n",
    "# Crear una columna numérica para las fechas para usarla en la regresión\n",
    "df['Fecha_Num'] = df['Fecha'].map(pd.Timestamp.toordinal)\n",
    "\n",
    "# Preparar los datos para la regresión lineal\n",
    "X = df[['Fecha_Num']].values\n",
    "y_qoP = df[['qoP [bbl/DC]']].values\n",
    "\n",
    "# Crear y ajustar el modelo de regresión lineal para qoP\n",
    "model_qoP = LinearRegression()\n",
    "model_qoP.fit(X, y_qoP)\n",
    "\n",
    "# Hacer predicciones\n",
    "df['Pred_qoP'] = model_qoP.predict(X)\n",
    "\n",
    "# Calcular métricas para qoP\n",
    "mse_qoP = mean_squared_error(y_qoP, df['Pred_qoP'])\n",
    "mae_qoP = mean_absolute_error(y_qoP, df['Pred_qoP'])\n",
    "r2_qoP = r2_score(y_qoP, df['Pred_qoP'])\n",
    "\n",
    "# Imprimir las métricas\n",
    "print(\"Métricas para la predicción de qoP:\")\n",
    "print(f\"MSE: {mse_qoP}\")\n",
    "print(f\"MAE: {mae_qoP}\")\n",
    "print(f\"R²: {r2_qoP}\")\n",
    "\n",
    "\n",
    "\n"
   ]
  },
  {
   "cell_type": "code",
   "execution_count": 588,
   "metadata": {},
   "outputs": [
    {
     "data": {
      "application/vnd.plotly.v1+json": {
       "config": {
        "plotlyServerURL": "https://plot.ly"
       },
       "data": [
        {
         "hovertemplate": "Fecha=%{x}<br>qoP [bbl/DC]=%{y}<extra></extra>",
         "legendgroup": "",
         "line": {
          "color": "green",
          "dash": "solid"
         },
         "marker": {
          "symbol": "circle"
         },
         "mode": "markers+lines",
         "name": "",
         "orientation": "v",
         "showlegend": false,
         "type": "scatter",
         "x": [
          "2017-01-01T00:00:00",
          "2017-02-01T00:00:00",
          "2017-03-01T00:00:00",
          "2017-04-01T00:00:00",
          "2017-05-01T00:00:00",
          "2017-06-01T00:00:00",
          "2017-07-01T00:00:00",
          "2017-08-01T00:00:00",
          "2017-09-01T00:00:00",
          "2017-10-01T00:00:00",
          "2017-11-01T00:00:00",
          "2017-12-01T00:00:00",
          "2018-01-01T00:00:00",
          "2018-02-01T00:00:00",
          "2018-03-01T00:00:00",
          "2018-04-01T00:00:00",
          "2018-05-01T00:00:00",
          "2018-06-01T00:00:00",
          "2018-07-01T00:00:00",
          "2018-08-01T00:00:00",
          "2018-09-01T00:00:00",
          "2018-10-01T00:00:00",
          "2018-11-01T00:00:00",
          "2018-12-01T00:00:00",
          "2019-01-01T00:00:00",
          "2019-02-01T00:00:00",
          "2019-03-01T00:00:00",
          "2019-04-01T00:00:00",
          "2019-05-01T00:00:00",
          "2019-06-01T00:00:00",
          "2019-07-01T00:00:00",
          "2019-08-01T00:00:00",
          "2019-09-01T00:00:00",
          "2019-10-01T00:00:00",
          "2019-11-01T00:00:00",
          "2019-12-01T00:00:00",
          "2020-01-01T00:00:00",
          "2020-02-01T00:00:00",
          "2020-03-01T00:00:00",
          "2020-04-01T00:00:00",
          "2020-05-01T00:00:00",
          "2020-06-01T00:00:00",
          "2020-07-01T00:00:00",
          "2020-08-01T00:00:00",
          "2020-09-01T00:00:00",
          "2020-10-01T00:00:00",
          "2020-11-01T00:00:00",
          "2020-12-01T00:00:00",
          "2021-01-01T00:00:00",
          "2021-02-01T00:00:00",
          "2021-03-01T00:00:00",
          "2021-04-01T00:00:00",
          "2021-05-01T00:00:00",
          "2021-06-01T00:00:00",
          "2021-07-01T00:00:00",
          "2021-08-01T00:00:00",
          "2021-09-01T00:00:00",
          "2021-10-01T00:00:00",
          "2021-11-01T00:00:00",
          "2021-12-01T00:00:00",
          "2022-01-01T00:00:00",
          "2022-02-01T00:00:00",
          "2022-03-01T00:00:00",
          "2022-04-01T00:00:00",
          "2022-05-01T00:00:00",
          "2022-06-01T00:00:00",
          "2022-07-01T00:00:00",
          "2022-08-01T00:00:00",
          "2022-09-01T00:00:00",
          "2022-10-01T00:00:00",
          "2022-11-01T00:00:00",
          "2022-12-01T00:00:00",
          "2023-01-01T00:00:00",
          "2023-02-01T00:00:00",
          "2023-03-01T00:00:00",
          "2023-04-01T00:00:00",
          "2023-05-01T00:00:00",
          "2023-06-01T00:00:00",
          "2023-07-01T00:00:00",
          "2023-08-01T00:00:00",
          "2023-09-01T00:00:00",
          "2023-10-01T00:00:00",
          "2023-11-01T00:00:00",
          "2023-12-01T00:00:00"
         ],
         "xaxis": "x",
         "y": [
          338,
          350,
          338,
          338,
          304,
          299,
          332,
          303,
          287,
          312,
          77,
          0,
          0,
          196,
          284,
          112,
          173,
          173,
          157,
          198,
          210,
          243,
          221,
          224,
          256,
          217,
          197,
          136,
          119,
          114,
          235,
          185,
          213,
          208,
          204,
          192,
          221,
          208,
          169,
          139,
          159,
          155,
          147,
          145,
          135,
          127,
          137,
          165,
          169,
          210,
          217,
          190,
          242,
          276,
          176,
          148,
          201,
          178,
          171,
          210,
          186,
          184,
          200,
          179,
          181,
          197,
          176,
          171,
          210,
          201,
          197,
          184,
          200,
          201,
          188,
          161,
          115,
          148,
          164,
          173,
          172,
          129,
          143,
          147
         ],
         "yaxis": "y"
        },
        {
         "line": {
          "color": "darkgreen",
          "dash": "dash"
         },
         "mode": "lines",
         "name": "Predicción qoP",
         "type": "scatter",
         "x": [
          "2017-01-01T00:00:00",
          "2017-02-01T00:00:00",
          "2017-03-01T00:00:00",
          "2017-04-01T00:00:00",
          "2017-05-01T00:00:00",
          "2017-06-01T00:00:00",
          "2017-07-01T00:00:00",
          "2017-08-01T00:00:00",
          "2017-09-01T00:00:00",
          "2017-10-01T00:00:00",
          "2017-11-01T00:00:00",
          "2017-12-01T00:00:00",
          "2018-01-01T00:00:00",
          "2018-02-01T00:00:00",
          "2018-03-01T00:00:00",
          "2018-04-01T00:00:00",
          "2018-05-01T00:00:00",
          "2018-06-01T00:00:00",
          "2018-07-01T00:00:00",
          "2018-08-01T00:00:00",
          "2018-09-01T00:00:00",
          "2018-10-01T00:00:00",
          "2018-11-01T00:00:00",
          "2018-12-01T00:00:00",
          "2019-01-01T00:00:00",
          "2019-02-01T00:00:00",
          "2019-03-01T00:00:00",
          "2019-04-01T00:00:00",
          "2019-05-01T00:00:00",
          "2019-06-01T00:00:00",
          "2019-07-01T00:00:00",
          "2019-08-01T00:00:00",
          "2019-09-01T00:00:00",
          "2019-10-01T00:00:00",
          "2019-11-01T00:00:00",
          "2019-12-01T00:00:00",
          "2020-01-01T00:00:00",
          "2020-02-01T00:00:00",
          "2020-03-01T00:00:00",
          "2020-04-01T00:00:00",
          "2020-05-01T00:00:00",
          "2020-06-01T00:00:00",
          "2020-07-01T00:00:00",
          "2020-08-01T00:00:00",
          "2020-09-01T00:00:00",
          "2020-10-01T00:00:00",
          "2020-11-01T00:00:00",
          "2020-12-01T00:00:00",
          "2021-01-01T00:00:00",
          "2021-02-01T00:00:00",
          "2021-03-01T00:00:00",
          "2021-04-01T00:00:00",
          "2021-05-01T00:00:00",
          "2021-06-01T00:00:00",
          "2021-07-01T00:00:00",
          "2021-08-01T00:00:00",
          "2021-09-01T00:00:00",
          "2021-10-01T00:00:00",
          "2021-11-01T00:00:00",
          "2021-12-01T00:00:00",
          "2022-01-01T00:00:00",
          "2022-02-01T00:00:00",
          "2022-03-01T00:00:00",
          "2022-04-01T00:00:00",
          "2022-05-01T00:00:00",
          "2022-06-01T00:00:00",
          "2022-07-01T00:00:00",
          "2022-08-01T00:00:00",
          "2022-09-01T00:00:00",
          "2022-10-01T00:00:00",
          "2022-11-01T00:00:00",
          "2022-12-01T00:00:00",
          "2023-01-01T00:00:00",
          "2023-02-01T00:00:00",
          "2023-03-01T00:00:00",
          "2023-04-01T00:00:00",
          "2023-05-01T00:00:00",
          "2023-06-01T00:00:00",
          "2023-07-01T00:00:00",
          "2023-08-01T00:00:00",
          "2023-09-01T00:00:00",
          "2023-10-01T00:00:00",
          "2023-11-01T00:00:00",
          "2023-12-01T00:00:00"
         ],
         "y": [
          234.07040317486099,
          233.07181499741273,
          232.16986438552703,
          231.17127620808242,
          230.20490055248956,
          229.20631237504494,
          228.2399367194521,
          227.24134854200747,
          226.24276036456286,
          225.27638470897,
          224.27779653152538,
          223.31142087593253,
          222.3128326984879,
          221.3142445210433,
          220.4122939091576,
          219.41370573170934,
          218.44733007612012,
          217.44874189867187,
          216.48236624308265,
          215.4837780656344,
          214.48518988818978,
          213.51881423259692,
          212.5202260551523,
          211.55385039955945,
          210.55526222211483,
          209.55667404467022,
          208.65472343278452,
          207.6561352553399,
          206.68975959974705,
          205.69117142230243,
          204.72479576670958,
          203.72620758926496,
          202.7276194118167,
          201.7612437562275,
          200.76265557877923,
          199.79627992319,
          198.79769174574176,
          197.79910356829714,
          196.86494043455968,
          195.86635225711507,
          194.8999766015222,
          193.9013884240776,
          192.93501276848474,
          191.93642459104012,
          190.93783641359187,
          189.97146075800265,
          188.9728725805544,
          188.00649692496518,
          187.00790874751692,
          186.0093205700723,
          185.1073699581866,
          184.108781780742,
          183.14240612514914,
          182.14381794770452,
          181.17744229211166,
          180.17885411466705,
          179.18026593722243,
          178.21389028162957,
          177.21530210418496,
          176.2489264485921,
          175.25033827114748,
          174.25175009370287,
          173.34979948181353,
          172.35121130436892,
          171.38483564877606,
          170.38624747133144,
          169.4198718157386,
          168.42128363829397,
          167.42269546084935,
          166.4563198052565,
          165.45773162781188,
          164.49135597221903,
          163.4927677947744,
          162.4941796173298,
          161.5922290054441,
          160.59364082799948,
          159.62726517240662,
          158.628676994962,
          157.66230133936915,
          156.66371316192453,
          155.66512498447628,
          154.69874932888706,
          153.7001611514388,
          152.73378549584595
         ]
        }
       ],
       "layout": {
        "legend": {
         "title": {
          "text": "Tipo de Producción"
         },
         "tracegroupgap": 0
        },
        "template": {
         "data": {
          "bar": [
           {
            "error_x": {
             "color": "#2a3f5f"
            },
            "error_y": {
             "color": "#2a3f5f"
            },
            "marker": {
             "line": {
              "color": "#E5ECF6",
              "width": 0.5
             },
             "pattern": {
              "fillmode": "overlay",
              "size": 10,
              "solidity": 0.2
             }
            },
            "type": "bar"
           }
          ],
          "barpolar": [
           {
            "marker": {
             "line": {
              "color": "#E5ECF6",
              "width": 0.5
             },
             "pattern": {
              "fillmode": "overlay",
              "size": 10,
              "solidity": 0.2
             }
            },
            "type": "barpolar"
           }
          ],
          "carpet": [
           {
            "aaxis": {
             "endlinecolor": "#2a3f5f",
             "gridcolor": "white",
             "linecolor": "white",
             "minorgridcolor": "white",
             "startlinecolor": "#2a3f5f"
            },
            "baxis": {
             "endlinecolor": "#2a3f5f",
             "gridcolor": "white",
             "linecolor": "white",
             "minorgridcolor": "white",
             "startlinecolor": "#2a3f5f"
            },
            "type": "carpet"
           }
          ],
          "choropleth": [
           {
            "colorbar": {
             "outlinewidth": 0,
             "ticks": ""
            },
            "type": "choropleth"
           }
          ],
          "contour": [
           {
            "colorbar": {
             "outlinewidth": 0,
             "ticks": ""
            },
            "colorscale": [
             [
              0,
              "#0d0887"
             ],
             [
              0.1111111111111111,
              "#46039f"
             ],
             [
              0.2222222222222222,
              "#7201a8"
             ],
             [
              0.3333333333333333,
              "#9c179e"
             ],
             [
              0.4444444444444444,
              "#bd3786"
             ],
             [
              0.5555555555555556,
              "#d8576b"
             ],
             [
              0.6666666666666666,
              "#ed7953"
             ],
             [
              0.7777777777777778,
              "#fb9f3a"
             ],
             [
              0.8888888888888888,
              "#fdca26"
             ],
             [
              1,
              "#f0f921"
             ]
            ],
            "type": "contour"
           }
          ],
          "contourcarpet": [
           {
            "colorbar": {
             "outlinewidth": 0,
             "ticks": ""
            },
            "type": "contourcarpet"
           }
          ],
          "heatmap": [
           {
            "colorbar": {
             "outlinewidth": 0,
             "ticks": ""
            },
            "colorscale": [
             [
              0,
              "#0d0887"
             ],
             [
              0.1111111111111111,
              "#46039f"
             ],
             [
              0.2222222222222222,
              "#7201a8"
             ],
             [
              0.3333333333333333,
              "#9c179e"
             ],
             [
              0.4444444444444444,
              "#bd3786"
             ],
             [
              0.5555555555555556,
              "#d8576b"
             ],
             [
              0.6666666666666666,
              "#ed7953"
             ],
             [
              0.7777777777777778,
              "#fb9f3a"
             ],
             [
              0.8888888888888888,
              "#fdca26"
             ],
             [
              1,
              "#f0f921"
             ]
            ],
            "type": "heatmap"
           }
          ],
          "heatmapgl": [
           {
            "colorbar": {
             "outlinewidth": 0,
             "ticks": ""
            },
            "colorscale": [
             [
              0,
              "#0d0887"
             ],
             [
              0.1111111111111111,
              "#46039f"
             ],
             [
              0.2222222222222222,
              "#7201a8"
             ],
             [
              0.3333333333333333,
              "#9c179e"
             ],
             [
              0.4444444444444444,
              "#bd3786"
             ],
             [
              0.5555555555555556,
              "#d8576b"
             ],
             [
              0.6666666666666666,
              "#ed7953"
             ],
             [
              0.7777777777777778,
              "#fb9f3a"
             ],
             [
              0.8888888888888888,
              "#fdca26"
             ],
             [
              1,
              "#f0f921"
             ]
            ],
            "type": "heatmapgl"
           }
          ],
          "histogram": [
           {
            "marker": {
             "pattern": {
              "fillmode": "overlay",
              "size": 10,
              "solidity": 0.2
             }
            },
            "type": "histogram"
           }
          ],
          "histogram2d": [
           {
            "colorbar": {
             "outlinewidth": 0,
             "ticks": ""
            },
            "colorscale": [
             [
              0,
              "#0d0887"
             ],
             [
              0.1111111111111111,
              "#46039f"
             ],
             [
              0.2222222222222222,
              "#7201a8"
             ],
             [
              0.3333333333333333,
              "#9c179e"
             ],
             [
              0.4444444444444444,
              "#bd3786"
             ],
             [
              0.5555555555555556,
              "#d8576b"
             ],
             [
              0.6666666666666666,
              "#ed7953"
             ],
             [
              0.7777777777777778,
              "#fb9f3a"
             ],
             [
              0.8888888888888888,
              "#fdca26"
             ],
             [
              1,
              "#f0f921"
             ]
            ],
            "type": "histogram2d"
           }
          ],
          "histogram2dcontour": [
           {
            "colorbar": {
             "outlinewidth": 0,
             "ticks": ""
            },
            "colorscale": [
             [
              0,
              "#0d0887"
             ],
             [
              0.1111111111111111,
              "#46039f"
             ],
             [
              0.2222222222222222,
              "#7201a8"
             ],
             [
              0.3333333333333333,
              "#9c179e"
             ],
             [
              0.4444444444444444,
              "#bd3786"
             ],
             [
              0.5555555555555556,
              "#d8576b"
             ],
             [
              0.6666666666666666,
              "#ed7953"
             ],
             [
              0.7777777777777778,
              "#fb9f3a"
             ],
             [
              0.8888888888888888,
              "#fdca26"
             ],
             [
              1,
              "#f0f921"
             ]
            ],
            "type": "histogram2dcontour"
           }
          ],
          "mesh3d": [
           {
            "colorbar": {
             "outlinewidth": 0,
             "ticks": ""
            },
            "type": "mesh3d"
           }
          ],
          "parcoords": [
           {
            "line": {
             "colorbar": {
              "outlinewidth": 0,
              "ticks": ""
             }
            },
            "type": "parcoords"
           }
          ],
          "pie": [
           {
            "automargin": true,
            "type": "pie"
           }
          ],
          "scatter": [
           {
            "fillpattern": {
             "fillmode": "overlay",
             "size": 10,
             "solidity": 0.2
            },
            "type": "scatter"
           }
          ],
          "scatter3d": [
           {
            "line": {
             "colorbar": {
              "outlinewidth": 0,
              "ticks": ""
             }
            },
            "marker": {
             "colorbar": {
              "outlinewidth": 0,
              "ticks": ""
             }
            },
            "type": "scatter3d"
           }
          ],
          "scattercarpet": [
           {
            "marker": {
             "colorbar": {
              "outlinewidth": 0,
              "ticks": ""
             }
            },
            "type": "scattercarpet"
           }
          ],
          "scattergeo": [
           {
            "marker": {
             "colorbar": {
              "outlinewidth": 0,
              "ticks": ""
             }
            },
            "type": "scattergeo"
           }
          ],
          "scattergl": [
           {
            "marker": {
             "colorbar": {
              "outlinewidth": 0,
              "ticks": ""
             }
            },
            "type": "scattergl"
           }
          ],
          "scattermapbox": [
           {
            "marker": {
             "colorbar": {
              "outlinewidth": 0,
              "ticks": ""
             }
            },
            "type": "scattermapbox"
           }
          ],
          "scatterpolar": [
           {
            "marker": {
             "colorbar": {
              "outlinewidth": 0,
              "ticks": ""
             }
            },
            "type": "scatterpolar"
           }
          ],
          "scatterpolargl": [
           {
            "marker": {
             "colorbar": {
              "outlinewidth": 0,
              "ticks": ""
             }
            },
            "type": "scatterpolargl"
           }
          ],
          "scatterternary": [
           {
            "marker": {
             "colorbar": {
              "outlinewidth": 0,
              "ticks": ""
             }
            },
            "type": "scatterternary"
           }
          ],
          "surface": [
           {
            "colorbar": {
             "outlinewidth": 0,
             "ticks": ""
            },
            "colorscale": [
             [
              0,
              "#0d0887"
             ],
             [
              0.1111111111111111,
              "#46039f"
             ],
             [
              0.2222222222222222,
              "#7201a8"
             ],
             [
              0.3333333333333333,
              "#9c179e"
             ],
             [
              0.4444444444444444,
              "#bd3786"
             ],
             [
              0.5555555555555556,
              "#d8576b"
             ],
             [
              0.6666666666666666,
              "#ed7953"
             ],
             [
              0.7777777777777778,
              "#fb9f3a"
             ],
             [
              0.8888888888888888,
              "#fdca26"
             ],
             [
              1,
              "#f0f921"
             ]
            ],
            "type": "surface"
           }
          ],
          "table": [
           {
            "cells": {
             "fill": {
              "color": "#EBF0F8"
             },
             "line": {
              "color": "white"
             }
            },
            "header": {
             "fill": {
              "color": "#C8D4E3"
             },
             "line": {
              "color": "white"
             }
            },
            "type": "table"
           }
          ]
         },
         "layout": {
          "annotationdefaults": {
           "arrowcolor": "#2a3f5f",
           "arrowhead": 0,
           "arrowwidth": 1
          },
          "autotypenumbers": "strict",
          "coloraxis": {
           "colorbar": {
            "outlinewidth": 0,
            "ticks": ""
           }
          },
          "colorscale": {
           "diverging": [
            [
             0,
             "#8e0152"
            ],
            [
             0.1,
             "#c51b7d"
            ],
            [
             0.2,
             "#de77ae"
            ],
            [
             0.3,
             "#f1b6da"
            ],
            [
             0.4,
             "#fde0ef"
            ],
            [
             0.5,
             "#f7f7f7"
            ],
            [
             0.6,
             "#e6f5d0"
            ],
            [
             0.7,
             "#b8e186"
            ],
            [
             0.8,
             "#7fbc41"
            ],
            [
             0.9,
             "#4d9221"
            ],
            [
             1,
             "#276419"
            ]
           ],
           "sequential": [
            [
             0,
             "#0d0887"
            ],
            [
             0.1111111111111111,
             "#46039f"
            ],
            [
             0.2222222222222222,
             "#7201a8"
            ],
            [
             0.3333333333333333,
             "#9c179e"
            ],
            [
             0.4444444444444444,
             "#bd3786"
            ],
            [
             0.5555555555555556,
             "#d8576b"
            ],
            [
             0.6666666666666666,
             "#ed7953"
            ],
            [
             0.7777777777777778,
             "#fb9f3a"
            ],
            [
             0.8888888888888888,
             "#fdca26"
            ],
            [
             1,
             "#f0f921"
            ]
           ],
           "sequentialminus": [
            [
             0,
             "#0d0887"
            ],
            [
             0.1111111111111111,
             "#46039f"
            ],
            [
             0.2222222222222222,
             "#7201a8"
            ],
            [
             0.3333333333333333,
             "#9c179e"
            ],
            [
             0.4444444444444444,
             "#bd3786"
            ],
            [
             0.5555555555555556,
             "#d8576b"
            ],
            [
             0.6666666666666666,
             "#ed7953"
            ],
            [
             0.7777777777777778,
             "#fb9f3a"
            ],
            [
             0.8888888888888888,
             "#fdca26"
            ],
            [
             1,
             "#f0f921"
            ]
           ]
          },
          "colorway": [
           "#636efa",
           "#EF553B",
           "#00cc96",
           "#ab63fa",
           "#FFA15A",
           "#19d3f3",
           "#FF6692",
           "#B6E880",
           "#FF97FF",
           "#FECB52"
          ],
          "font": {
           "color": "#2a3f5f"
          },
          "geo": {
           "bgcolor": "white",
           "lakecolor": "white",
           "landcolor": "#E5ECF6",
           "showlakes": true,
           "showland": true,
           "subunitcolor": "white"
          },
          "hoverlabel": {
           "align": "left"
          },
          "hovermode": "closest",
          "mapbox": {
           "style": "light"
          },
          "paper_bgcolor": "white",
          "plot_bgcolor": "#E5ECF6",
          "polar": {
           "angularaxis": {
            "gridcolor": "white",
            "linecolor": "white",
            "ticks": ""
           },
           "bgcolor": "#E5ECF6",
           "radialaxis": {
            "gridcolor": "white",
            "linecolor": "white",
            "ticks": ""
           }
          },
          "scene": {
           "xaxis": {
            "backgroundcolor": "#E5ECF6",
            "gridcolor": "white",
            "gridwidth": 2,
            "linecolor": "white",
            "showbackground": true,
            "ticks": "",
            "zerolinecolor": "white"
           },
           "yaxis": {
            "backgroundcolor": "#E5ECF6",
            "gridcolor": "white",
            "gridwidth": 2,
            "linecolor": "white",
            "showbackground": true,
            "ticks": "",
            "zerolinecolor": "white"
           },
           "zaxis": {
            "backgroundcolor": "#E5ECF6",
            "gridcolor": "white",
            "gridwidth": 2,
            "linecolor": "white",
            "showbackground": true,
            "ticks": "",
            "zerolinecolor": "white"
           }
          },
          "shapedefaults": {
           "line": {
            "color": "#2a3f5f"
           }
          },
          "ternary": {
           "aaxis": {
            "gridcolor": "white",
            "linecolor": "white",
            "ticks": ""
           },
           "baxis": {
            "gridcolor": "white",
            "linecolor": "white",
            "ticks": ""
           },
           "bgcolor": "#E5ECF6",
           "caxis": {
            "gridcolor": "white",
            "linecolor": "white",
            "ticks": ""
           }
          },
          "title": {
           "x": 0.05
          },
          "xaxis": {
           "automargin": true,
           "gridcolor": "white",
           "linecolor": "white",
           "ticks": "",
           "title": {
            "standoff": 15
           },
           "zerolinecolor": "white",
           "zerolinewidth": 2
          },
          "yaxis": {
           "automargin": true,
           "gridcolor": "white",
           "linecolor": "white",
           "ticks": "",
           "title": {
            "standoff": 15
           },
           "zerolinecolor": "white",
           "zerolinewidth": 2
          }
         }
        },
        "title": {
         "text": "Producción de Aceite a lo largo del tiempo"
        },
        "xaxis": {
         "anchor": "y",
         "domain": [
          0,
          1
         ],
         "title": {
          "font": {
           "family": "Arial",
           "size": 16
          },
          "text": "Fecha"
         }
        },
        "yaxis": {
         "anchor": "x",
         "domain": [
          0,
          1
         ],
         "title": {
          "font": {
           "family": "Arial",
           "size": 16
          },
          "text": "Producción de Aceite (bbl/d)"
         }
        }
       }
      }
     },
     "metadata": {},
     "output_type": "display_data"
    }
   ],
   "source": [
    "# Visualizar los resultados para qoP\n",
    "fig_qoP = px.line(df, x='Fecha', y='qoP [bbl/DC]', title='Producción de Aceite a lo largo del tiempo', markers='*')\n",
    "fig_qoP.update_traces(line=dict(color='green'))\n",
    "fig_qoP.add_trace(go.Scatter(x=df['Fecha'], y=df['Pred_qoP'], mode='lines', name='Predicción qoP', line=dict(color='darkgreen', dash='dash')))\n",
    "fig_qoP.update_layout(\n",
    "    legend_title_text='Tipo de Producción',\n",
    "    xaxis_title={'text': 'Fecha', 'font': {'size': 16, 'family': 'Arial'}},\n",
    "    yaxis_title={'text': 'Producción de Aceite (bbl/d)', 'font': {'size': 16, 'family': 'Arial'}}\n",
    ")\n",
    "fig_qoP.show()\n"
   ]
  },
  {
   "cell_type": "markdown",
   "metadata": {},
   "source": [
    "<a name=\"6\"></a>\n",
    "## 6 - Curva de Declinación Exponencial"
   ]
  },
  {
   "cell_type": "code",
   "execution_count": 589,
   "metadata": {},
   "outputs": [
    {
     "name": "stdout",
     "output_type": "stream",
     "text": [
      "qi : 240.9358344965516, Di : 0.45896073586404457\n",
      "Métricas para la predicción de qoP:\n",
      "MSE: 3622.680109238295\n",
      "MAE: 42.518585130508306\n",
      "R²: 0.14508163328136658\n",
      "\n",
      "Métricas para la predicción de qoP con valores de SAHARA CA246:\n",
      "MSE: 17742.80384185761\n",
      "MAE: 106.74682741778666\n",
      "R²: -3.1871345037636694\n"
     ]
    },
    {
     "data": {
      "text/html": [
       "<div>\n",
       "<style scoped>\n",
       "    .dataframe tbody tr th:only-of-type {\n",
       "        vertical-align: middle;\n",
       "    }\n",
       "\n",
       "    .dataframe tbody tr th {\n",
       "        vertical-align: top;\n",
       "    }\n",
       "\n",
       "    .dataframe thead th {\n",
       "        text-align: right;\n",
       "    }\n",
       "</style>\n",
       "<table border=\"1\" class=\"dataframe\">\n",
       "  <thead>\n",
       "    <tr style=\"text-align: right;\">\n",
       "      <th></th>\n",
       "      <th>Fecha</th>\n",
       "      <th>Fecha_Num</th>\n",
       "      <th>Fecha_norm</th>\n",
       "      <th>qo_pred_exp</th>\n",
       "    </tr>\n",
       "  </thead>\n",
       "  <tbody>\n",
       "    <tr>\n",
       "      <th>0</th>\n",
       "      <td>2024-01-01</td>\n",
       "      <td>738886</td>\n",
       "      <td>1.012277</td>\n",
       "      <td>151.401485</td>\n",
       "    </tr>\n",
       "    <tr>\n",
       "      <th>1</th>\n",
       "      <td>2024-02-01</td>\n",
       "      <td>738917</td>\n",
       "      <td>1.024554</td>\n",
       "      <td>150.550772</td>\n",
       "    </tr>\n",
       "    <tr>\n",
       "      <th>2</th>\n",
       "      <td>2024-03-01</td>\n",
       "      <td>738946</td>\n",
       "      <td>1.036040</td>\n",
       "      <td>149.759272</td>\n",
       "    </tr>\n",
       "    <tr>\n",
       "      <th>3</th>\n",
       "      <td>2024-04-01</td>\n",
       "      <td>738977</td>\n",
       "      <td>1.048317</td>\n",
       "      <td>148.917787</td>\n",
       "    </tr>\n",
       "    <tr>\n",
       "      <th>4</th>\n",
       "      <td>2024-05-01</td>\n",
       "      <td>739007</td>\n",
       "      <td>1.060198</td>\n",
       "      <td>148.107948</td>\n",
       "    </tr>\n",
       "    <tr>\n",
       "      <th>...</th>\n",
       "      <td>...</td>\n",
       "      <td>...</td>\n",
       "      <td>...</td>\n",
       "      <td>...</td>\n",
       "    </tr>\n",
       "    <tr>\n",
       "      <th>67</th>\n",
       "      <td>2029-08-01</td>\n",
       "      <td>740925</td>\n",
       "      <td>1.819802</td>\n",
       "      <td>104.513160</td>\n",
       "    </tr>\n",
       "    <tr>\n",
       "      <th>68</th>\n",
       "      <td>2029-09-01</td>\n",
       "      <td>740956</td>\n",
       "      <td>1.832079</td>\n",
       "      <td>103.925909</td>\n",
       "    </tr>\n",
       "    <tr>\n",
       "      <th>69</th>\n",
       "      <td>2029-10-01</td>\n",
       "      <td>740986</td>\n",
       "      <td>1.843960</td>\n",
       "      <td>103.360743</td>\n",
       "    </tr>\n",
       "    <tr>\n",
       "      <th>70</th>\n",
       "      <td>2029-11-01</td>\n",
       "      <td>741017</td>\n",
       "      <td>1.856238</td>\n",
       "      <td>102.779968</td>\n",
       "    </tr>\n",
       "    <tr>\n",
       "      <th>71</th>\n",
       "      <td>2029-12-01</td>\n",
       "      <td>741047</td>\n",
       "      <td>1.868119</td>\n",
       "      <td>102.221034</td>\n",
       "    </tr>\n",
       "  </tbody>\n",
       "</table>\n",
       "<p>72 rows × 4 columns</p>\n",
       "</div>"
      ],
      "text/plain": [
       "        Fecha  Fecha_Num  Fecha_norm  qo_pred_exp\n",
       "0  2024-01-01     738886    1.012277   151.401485\n",
       "1  2024-02-01     738917    1.024554   150.550772\n",
       "2  2024-03-01     738946    1.036040   149.759272\n",
       "3  2024-04-01     738977    1.048317   148.917787\n",
       "4  2024-05-01     739007    1.060198   148.107948\n",
       "..        ...        ...         ...          ...\n",
       "67 2029-08-01     740925    1.819802   104.513160\n",
       "68 2029-09-01     740956    1.832079   103.925909\n",
       "69 2029-10-01     740986    1.843960   103.360743\n",
       "70 2029-11-01     741017    1.856238   102.779968\n",
       "71 2029-12-01     741047    1.868119   102.221034\n",
       "\n",
       "[72 rows x 4 columns]"
      ]
     },
     "execution_count": 589,
     "metadata": {},
     "output_type": "execute_result"
    }
   ],
   "source": [
    "#Se normaliza la Caracteristica Fecha_num para no tener porblemas de desbordamiento\n",
    "#Al usar el modelo de declinación exponencial, ya que np.exp al tener valores muy grande\n",
    "# sufre desbordamiento por lo que curve_fit no puede calcular las constantes qi y Di\n",
    "scaler=MinMaxScaler(feature_range=(0,1))\n",
    "df['Fecha_norm']=scaler.fit_transform(df[['Fecha_Num']])\n",
    "df_pred['Fecha_norm']=scaler.transform(df_pred[['Fecha_Num']])\n",
    "\n",
    "#Convertimos a array las columnas a ajustar con el modelo exponencial\n",
    "yo=df['qoP [bbl/DC]'].values\n",
    "X=df['Fecha_norm'].values\n",
    "\n",
    "#utilizamos curve_fit para encontrar las constantes qi y Di\n",
    "popt_exp, pcov_exp = curve_fit(func_exp,X, yo)\n",
    "\n",
    "print(f'qi : {popt_exp[0]}, Di : {popt_exp[1]}' )\n",
    "#Calculamos los valores predichos con el modelo Exponencial\n",
    "df['qo_pred_exp']=func_exp(df['Fecha_norm'],popt_exp[0],popt_exp[1])\n",
    "\n",
    "# Calcular métricas para qoP\n",
    "mse_qoP = mean_squared_error(df['qoP [bbl/DC]'], df['qo_pred_exp'])\n",
    "mae_qoP = mean_absolute_error(df['qoP [bbl/DC]'], df['qo_pred_exp'])\n",
    "r2_qoP = r2_score(df['qoP [bbl/DC]'], df['qo_pred_exp'])\n",
    "\n",
    "# Imprimir las métricas\n",
    "print(\"Métricas para la predicción de qoP:\")\n",
    "print(f\"MSE: {mse_qoP}\")\n",
    "print(f\"MAE: {mae_qoP}\")\n",
    "print(f\"R²: {r2_qoP}\")\n",
    "\n",
    "\n",
    "df['qo_pred_exp_sahara']=func_exp(df['Fecha_norm'],457,0.9155)\n",
    "df_pred['qo_pred_exp']=func_exp(df_pred['Fecha_norm'],popt_exp[0],popt_exp[1])\n",
    "\n",
    "# Calcular métricas para qoP\n",
    "mse_qoP = mean_squared_error(df['qoP [bbl/DC]'], df['qo_pred_exp_sahara'])\n",
    "mae_qoP = mean_absolute_error(df['qoP [bbl/DC]'], df['qo_pred_exp_sahara'])\n",
    "r2_qoP = r2_score(df['qoP [bbl/DC]'], df['qo_pred_exp_sahara'])\n",
    "\n",
    "print(\"\")\n",
    "# Imprimir las métricas\n",
    "print(\"Métricas para la predicción de qoP con valores de SAHARA CA246:\")\n",
    "print(f\"MSE: {mse_qoP}\")\n",
    "print(f\"MAE: {mae_qoP}\")\n",
    "print(f\"R²: {r2_qoP}\")\n",
    "df_pred"
   ]
  },
  {
   "cell_type": "code",
   "execution_count": 590,
   "metadata": {},
   "outputs": [
    {
     "data": {
      "application/vnd.plotly.v1+json": {
       "config": {
        "plotlyServerURL": "https://plot.ly"
       },
       "data": [
        {
         "hovertemplate": "Fecha=%{x}<br>qoP [bbl/DC]=%{y}<extra></extra>",
         "legendgroup": "",
         "line": {
          "color": "green",
          "dash": "solid"
         },
         "marker": {
          "symbol": "circle"
         },
         "mode": "markers+lines",
         "name": "",
         "orientation": "v",
         "showlegend": false,
         "type": "scatter",
         "x": [
          "2013-05-01T00:00:00",
          "2013-06-01T00:00:00",
          "2013-07-01T00:00:00",
          "2013-08-01T00:00:00",
          "2013-09-01T00:00:00",
          "2013-10-01T00:00:00",
          "2013-11-01T00:00:00",
          "2013-12-01T00:00:00",
          "2014-01-01T00:00:00",
          "2014-02-01T00:00:00",
          "2014-03-01T00:00:00",
          "2014-04-01T00:00:00",
          "2014-05-01T00:00:00",
          "2014-06-01T00:00:00",
          "2014-07-01T00:00:00",
          "2014-08-01T00:00:00",
          "2014-09-01T00:00:00",
          "2014-10-01T00:00:00",
          "2014-11-01T00:00:00",
          "2014-12-01T00:00:00",
          "2015-01-01T00:00:00",
          "2015-02-01T00:00:00",
          "2015-03-01T00:00:00",
          "2015-04-01T00:00:00",
          "2015-05-01T00:00:00",
          "2015-06-01T00:00:00",
          "2015-07-01T00:00:00",
          "2015-08-01T00:00:00",
          "2015-09-01T00:00:00",
          "2015-10-01T00:00:00",
          "2015-11-01T00:00:00",
          "2015-12-01T00:00:00",
          "2016-01-01T00:00:00",
          "2016-02-01T00:00:00",
          "2016-03-01T00:00:00",
          "2016-04-01T00:00:00",
          "2016-05-01T00:00:00",
          "2016-06-01T00:00:00",
          "2016-07-01T00:00:00",
          "2016-08-01T00:00:00",
          "2016-09-01T00:00:00",
          "2016-10-01T00:00:00",
          "2016-11-01T00:00:00",
          "2016-12-01T00:00:00",
          "2017-01-01T00:00:00",
          "2017-02-01T00:00:00",
          "2017-03-01T00:00:00",
          "2017-04-01T00:00:00",
          "2017-05-01T00:00:00",
          "2017-06-01T00:00:00",
          "2017-07-01T00:00:00",
          "2017-08-01T00:00:00",
          "2017-09-01T00:00:00",
          "2017-10-01T00:00:00",
          "2017-11-01T00:00:00",
          "2017-12-01T00:00:00",
          "2018-01-01T00:00:00",
          "2018-02-01T00:00:00",
          "2018-03-01T00:00:00",
          "2018-04-01T00:00:00",
          "2018-05-01T00:00:00",
          "2018-06-01T00:00:00",
          "2018-07-01T00:00:00",
          "2018-08-01T00:00:00",
          "2018-09-01T00:00:00",
          "2018-10-01T00:00:00",
          "2018-11-01T00:00:00",
          "2018-12-01T00:00:00",
          "2019-01-01T00:00:00",
          "2019-02-01T00:00:00",
          "2019-03-01T00:00:00",
          "2019-04-01T00:00:00",
          "2019-05-01T00:00:00",
          "2019-06-01T00:00:00",
          "2019-07-01T00:00:00",
          "2019-08-01T00:00:00",
          "2019-09-01T00:00:00",
          "2019-10-01T00:00:00",
          "2019-11-01T00:00:00",
          "2019-12-01T00:00:00",
          "2020-01-01T00:00:00",
          "2020-02-01T00:00:00",
          "2020-03-01T00:00:00",
          "2020-04-01T00:00:00",
          "2020-05-01T00:00:00",
          "2020-06-01T00:00:00",
          "2020-07-01T00:00:00",
          "2020-08-01T00:00:00",
          "2020-09-01T00:00:00",
          "2020-10-01T00:00:00",
          "2020-11-01T00:00:00",
          "2020-12-01T00:00:00",
          "2021-01-01T00:00:00",
          "2021-02-01T00:00:00",
          "2021-03-01T00:00:00",
          "2021-04-01T00:00:00",
          "2021-05-01T00:00:00",
          "2021-06-01T00:00:00",
          "2021-07-01T00:00:00",
          "2021-08-01T00:00:00",
          "2021-09-01T00:00:00",
          "2021-10-01T00:00:00",
          "2021-11-01T00:00:00",
          "2021-12-01T00:00:00",
          "2022-01-01T00:00:00",
          "2022-02-01T00:00:00",
          "2022-03-01T00:00:00",
          "2022-04-01T00:00:00",
          "2022-05-01T00:00:00",
          "2022-06-01T00:00:00",
          "2022-07-01T00:00:00",
          "2022-08-01T00:00:00",
          "2022-09-01T00:00:00",
          "2022-10-01T00:00:00",
          "2022-11-01T00:00:00",
          "2022-12-01T00:00:00",
          "2023-01-01T00:00:00",
          "2023-02-01T00:00:00",
          "2023-03-01T00:00:00",
          "2023-04-01T00:00:00",
          "2023-05-01T00:00:00",
          "2023-06-01T00:00:00",
          "2023-07-01T00:00:00",
          "2023-08-01T00:00:00",
          "2023-09-01T00:00:00",
          "2023-10-01T00:00:00",
          "2023-11-01T00:00:00",
          "2023-12-01T00:00:00"
         ],
         "xaxis": "x",
         "y": [
          86,
          215,
          283,
          337,
          351,
          366,
          352,
          382,
          412,
          235,
          316,
          504,
          586,
          533,
          576,
          587,
          542,
          543,
          509,
          443,
          420,
          344,
          336,
          365,
          417,
          411,
          414,
          405,
          345,
          336,
          445,
          421,
          411,
          434,
          441,
          451,
          462,
          431,
          403,
          434,
          377,
          342,
          359,
          346,
          338,
          350,
          338,
          338,
          304,
          299,
          332,
          303,
          287,
          312,
          77,
          0,
          0,
          196,
          284,
          112,
          173,
          173,
          157,
          198,
          210,
          243,
          221,
          224,
          256,
          217,
          197,
          136,
          119,
          114,
          235,
          185,
          213,
          208,
          204,
          192,
          221,
          208,
          169,
          139,
          159,
          155,
          147,
          145,
          135,
          127,
          137,
          165,
          169,
          210,
          217,
          190,
          242,
          276,
          176,
          148,
          201,
          178,
          171,
          210,
          186,
          184,
          200,
          179,
          181,
          197,
          176,
          171,
          210,
          201,
          197,
          184,
          200,
          201,
          188,
          161,
          115,
          148,
          164,
          173,
          172,
          129,
          143,
          147
         ],
         "yaxis": "y"
        },
        {
         "line": {
          "color": "black",
          "dash": "dash"
         },
         "mode": "lines",
         "name": "Predicción lin qo",
         "type": "scatter",
         "x": [
          "2017-01-01T00:00:00",
          "2017-02-01T00:00:00",
          "2017-03-01T00:00:00",
          "2017-04-01T00:00:00",
          "2017-05-01T00:00:00",
          "2017-06-01T00:00:00",
          "2017-07-01T00:00:00",
          "2017-08-01T00:00:00",
          "2017-09-01T00:00:00",
          "2017-10-01T00:00:00",
          "2017-11-01T00:00:00",
          "2017-12-01T00:00:00",
          "2018-01-01T00:00:00",
          "2018-02-01T00:00:00",
          "2018-03-01T00:00:00",
          "2018-04-01T00:00:00",
          "2018-05-01T00:00:00",
          "2018-06-01T00:00:00",
          "2018-07-01T00:00:00",
          "2018-08-01T00:00:00",
          "2018-09-01T00:00:00",
          "2018-10-01T00:00:00",
          "2018-11-01T00:00:00",
          "2018-12-01T00:00:00",
          "2019-01-01T00:00:00",
          "2019-02-01T00:00:00",
          "2019-03-01T00:00:00",
          "2019-04-01T00:00:00",
          "2019-05-01T00:00:00",
          "2019-06-01T00:00:00",
          "2019-07-01T00:00:00",
          "2019-08-01T00:00:00",
          "2019-09-01T00:00:00",
          "2019-10-01T00:00:00",
          "2019-11-01T00:00:00",
          "2019-12-01T00:00:00",
          "2020-01-01T00:00:00",
          "2020-02-01T00:00:00",
          "2020-03-01T00:00:00",
          "2020-04-01T00:00:00",
          "2020-05-01T00:00:00",
          "2020-06-01T00:00:00",
          "2020-07-01T00:00:00",
          "2020-08-01T00:00:00",
          "2020-09-01T00:00:00",
          "2020-10-01T00:00:00",
          "2020-11-01T00:00:00",
          "2020-12-01T00:00:00",
          "2021-01-01T00:00:00",
          "2021-02-01T00:00:00",
          "2021-03-01T00:00:00",
          "2021-04-01T00:00:00",
          "2021-05-01T00:00:00",
          "2021-06-01T00:00:00",
          "2021-07-01T00:00:00",
          "2021-08-01T00:00:00",
          "2021-09-01T00:00:00",
          "2021-10-01T00:00:00",
          "2021-11-01T00:00:00",
          "2021-12-01T00:00:00",
          "2022-01-01T00:00:00",
          "2022-02-01T00:00:00",
          "2022-03-01T00:00:00",
          "2022-04-01T00:00:00",
          "2022-05-01T00:00:00",
          "2022-06-01T00:00:00",
          "2022-07-01T00:00:00",
          "2022-08-01T00:00:00",
          "2022-09-01T00:00:00",
          "2022-10-01T00:00:00",
          "2022-11-01T00:00:00",
          "2022-12-01T00:00:00",
          "2023-01-01T00:00:00",
          "2023-02-01T00:00:00",
          "2023-03-01T00:00:00",
          "2023-04-01T00:00:00",
          "2023-05-01T00:00:00",
          "2023-06-01T00:00:00",
          "2023-07-01T00:00:00",
          "2023-08-01T00:00:00",
          "2023-09-01T00:00:00",
          "2023-10-01T00:00:00",
          "2023-11-01T00:00:00",
          "2023-12-01T00:00:00"
         ],
         "y": [
          234.07040317486099,
          233.07181499741273,
          232.16986438552703,
          231.17127620808242,
          230.20490055248956,
          229.20631237504494,
          228.2399367194521,
          227.24134854200747,
          226.24276036456286,
          225.27638470897,
          224.27779653152538,
          223.31142087593253,
          222.3128326984879,
          221.3142445210433,
          220.4122939091576,
          219.41370573170934,
          218.44733007612012,
          217.44874189867187,
          216.48236624308265,
          215.4837780656344,
          214.48518988818978,
          213.51881423259692,
          212.5202260551523,
          211.55385039955945,
          210.55526222211483,
          209.55667404467022,
          208.65472343278452,
          207.6561352553399,
          206.68975959974705,
          205.69117142230243,
          204.72479576670958,
          203.72620758926496,
          202.7276194118167,
          201.7612437562275,
          200.76265557877923,
          199.79627992319,
          198.79769174574176,
          197.79910356829714,
          196.86494043455968,
          195.86635225711507,
          194.8999766015222,
          193.9013884240776,
          192.93501276848474,
          191.93642459104012,
          190.93783641359187,
          189.97146075800265,
          188.9728725805544,
          188.00649692496518,
          187.00790874751692,
          186.0093205700723,
          185.1073699581866,
          184.108781780742,
          183.14240612514914,
          182.14381794770452,
          181.17744229211166,
          180.17885411466705,
          179.18026593722243,
          178.21389028162957,
          177.21530210418496,
          176.2489264485921,
          175.25033827114748,
          174.25175009370287,
          173.34979948181353,
          172.35121130436892,
          171.38483564877606,
          170.38624747133144,
          169.4198718157386,
          168.42128363829397,
          167.42269546084935,
          166.4563198052565,
          165.45773162781188,
          164.49135597221903,
          163.4927677947744,
          162.4941796173298,
          161.5922290054441,
          160.59364082799948,
          159.62726517240662,
          158.628676994962,
          157.66230133936915,
          156.66371316192453,
          155.66512498447628,
          154.69874932888706,
          153.7001611514388,
          152.73378549584595
         ]
        },
        {
         "line": {
          "color": "red",
          "dash": "dash"
         },
         "mode": "lines",
         "name": "Predicción exp qo",
         "type": "scatter",
         "x": [
          "2017-01-01T00:00:00",
          "2017-02-01T00:00:00",
          "2017-03-01T00:00:00",
          "2017-04-01T00:00:00",
          "2017-05-01T00:00:00",
          "2017-06-01T00:00:00",
          "2017-07-01T00:00:00",
          "2017-08-01T00:00:00",
          "2017-09-01T00:00:00",
          "2017-10-01T00:00:00",
          "2017-11-01T00:00:00",
          "2017-12-01T00:00:00",
          "2018-01-01T00:00:00",
          "2018-02-01T00:00:00",
          "2018-03-01T00:00:00",
          "2018-04-01T00:00:00",
          "2018-05-01T00:00:00",
          "2018-06-01T00:00:00",
          "2018-07-01T00:00:00",
          "2018-08-01T00:00:00",
          "2018-09-01T00:00:00",
          "2018-10-01T00:00:00",
          "2018-11-01T00:00:00",
          "2018-12-01T00:00:00",
          "2019-01-01T00:00:00",
          "2019-02-01T00:00:00",
          "2019-03-01T00:00:00",
          "2019-04-01T00:00:00",
          "2019-05-01T00:00:00",
          "2019-06-01T00:00:00",
          "2019-07-01T00:00:00",
          "2019-08-01T00:00:00",
          "2019-09-01T00:00:00",
          "2019-10-01T00:00:00",
          "2019-11-01T00:00:00",
          "2019-12-01T00:00:00",
          "2020-01-01T00:00:00",
          "2020-02-01T00:00:00",
          "2020-03-01T00:00:00",
          "2020-04-01T00:00:00",
          "2020-05-01T00:00:00",
          "2020-06-01T00:00:00",
          "2020-07-01T00:00:00",
          "2020-08-01T00:00:00",
          "2020-09-01T00:00:00",
          "2020-10-01T00:00:00",
          "2020-11-01T00:00:00",
          "2020-12-01T00:00:00",
          "2021-01-01T00:00:00",
          "2021-02-01T00:00:00",
          "2021-03-01T00:00:00",
          "2021-04-01T00:00:00",
          "2021-05-01T00:00:00",
          "2021-06-01T00:00:00",
          "2021-07-01T00:00:00",
          "2021-08-01T00:00:00",
          "2021-09-01T00:00:00",
          "2021-10-01T00:00:00",
          "2021-11-01T00:00:00",
          "2021-12-01T00:00:00",
          "2022-01-01T00:00:00",
          "2022-02-01T00:00:00",
          "2022-03-01T00:00:00",
          "2022-04-01T00:00:00",
          "2022-05-01T00:00:00",
          "2022-06-01T00:00:00",
          "2022-07-01T00:00:00",
          "2022-08-01T00:00:00",
          "2022-09-01T00:00:00",
          "2022-10-01T00:00:00",
          "2022-11-01T00:00:00",
          "2022-12-01T00:00:00",
          "2023-01-01T00:00:00",
          "2023-02-01T00:00:00",
          "2023-03-01T00:00:00",
          "2023-04-01T00:00:00",
          "2023-05-01T00:00:00",
          "2023-06-01T00:00:00",
          "2023-07-01T00:00:00",
          "2023-08-01T00:00:00",
          "2023-09-01T00:00:00",
          "2023-10-01T00:00:00",
          "2023-11-01T00:00:00",
          "2023-12-01T00:00:00"
         ],
         "y": [
          240.9358344965516,
          239.58203532823356,
          238.36578845309327,
          237.02643016777398,
          235.7374429355278,
          234.41285311328573,
          233.1380789266054,
          231.82809472266325,
          230.52547121511137,
          229.2718372262988,
          227.9835771249972,
          226.74376635845388,
          225.46971128500508,
          224.2028150250263,
          223.06464131847832,
          221.8112589541275,
          220.6050142304513,
          219.36545231383295,
          218.17250827366982,
          216.94661441330683,
          215.72760875241855,
          214.5544478811687,
          213.3488836125434,
          212.18865862498737,
          210.99638753682288,
          209.81081572447286,
          208.7457035233601,
          207.57277812432017,
          206.44396451236977,
          205.28397240058982,
          204.1676056763311,
          203.02040424263961,
          201.87964884197623,
          200.7817953678945,
          199.65361853131398,
          198.56787056228924,
          197.45213359197257,
          196.34266585838287,
          195.3104210643081,
          194.21298744198293,
          193.15682648570012,
          192.07149373892253,
          191.0269785642483,
          189.95361326246257,
          188.88627911438505,
          187.85908564083968,
          186.80352047581638,
          185.78765337330515,
          184.7437274203804,
          183.70566720382402,
          182.77307873417473,
          181.74609143485023,
          180.75772743170737,
          179.7420642300278,
          178.7645984439246,
          177.7601344744873,
          176.7613145076965,
          175.80005851023125,
          174.8122520533847,
          173.86159536594863,
          172.88468097834993,
          171.9132557944935,
          171.04053192824537,
          170.07946887028652,
          169.15454980667457,
          168.20408393129767,
          167.28936350772855,
          166.34937796486213,
          165.41467412552421,
          164.51512295385083,
          163.59072564659246,
          162.70109339535324,
          161.78688897498424,
          160.8778213960715,
          160.06111931202634,
          159.1617486947105,
          158.2962019209384,
          157.4067482331702,
          156.55074542960804,
          155.67109932214947,
          154.7963958757574,
          153.95458858135024,
          153.08953007141653,
          152.257004983333
         ]
        },
        {
         "line": {
          "color": "pink",
          "dash": "dash"
         },
         "mode": "lines",
         "name": "Predicción exp qo",
         "type": "scatter",
         "x": [
          "2024-01-01T00:00:00",
          "2024-02-01T00:00:00",
          "2024-03-01T00:00:00",
          "2024-04-01T00:00:00",
          "2024-05-01T00:00:00",
          "2024-06-01T00:00:00",
          "2024-07-01T00:00:00",
          "2024-08-01T00:00:00",
          "2024-09-01T00:00:00",
          "2024-10-01T00:00:00",
          "2024-11-01T00:00:00",
          "2024-12-01T00:00:00",
          "2025-01-01T00:00:00",
          "2025-02-01T00:00:00",
          "2025-03-01T00:00:00",
          "2025-04-01T00:00:00",
          "2025-05-01T00:00:00",
          "2025-06-01T00:00:00",
          "2025-07-01T00:00:00",
          "2025-08-01T00:00:00",
          "2025-09-01T00:00:00",
          "2025-10-01T00:00:00",
          "2025-11-01T00:00:00",
          "2025-12-01T00:00:00",
          "2026-01-01T00:00:00",
          "2026-02-01T00:00:00",
          "2026-03-01T00:00:00",
          "2026-04-01T00:00:00",
          "2026-05-01T00:00:00",
          "2026-06-01T00:00:00",
          "2026-07-01T00:00:00",
          "2026-08-01T00:00:00",
          "2026-09-01T00:00:00",
          "2026-10-01T00:00:00",
          "2026-11-01T00:00:00",
          "2026-12-01T00:00:00",
          "2027-01-01T00:00:00",
          "2027-02-01T00:00:00",
          "2027-03-01T00:00:00",
          "2027-04-01T00:00:00",
          "2027-05-01T00:00:00",
          "2027-06-01T00:00:00",
          "2027-07-01T00:00:00",
          "2027-08-01T00:00:00",
          "2027-09-01T00:00:00",
          "2027-10-01T00:00:00",
          "2027-11-01T00:00:00",
          "2027-12-01T00:00:00",
          "2028-01-01T00:00:00",
          "2028-02-01T00:00:00",
          "2028-03-01T00:00:00",
          "2028-04-01T00:00:00",
          "2028-05-01T00:00:00",
          "2028-06-01T00:00:00",
          "2028-07-01T00:00:00",
          "2028-08-01T00:00:00",
          "2028-09-01T00:00:00",
          "2028-10-01T00:00:00",
          "2028-11-01T00:00:00",
          "2028-12-01T00:00:00",
          "2029-01-01T00:00:00",
          "2029-02-01T00:00:00",
          "2029-03-01T00:00:00",
          "2029-04-01T00:00:00",
          "2029-05-01T00:00:00",
          "2029-06-01T00:00:00",
          "2029-07-01T00:00:00",
          "2029-08-01T00:00:00",
          "2029-09-01T00:00:00",
          "2029-10-01T00:00:00",
          "2029-11-01T00:00:00",
          "2029-12-01T00:00:00"
         ],
         "y": [
          151.4014850597494,
          150.55077223414028,
          149.75927207698788,
          148.91778671467395,
          148.10794822706472,
          147.27574152128324,
          146.4748327352624,
          145.65180237470656,
          144.83339655586718,
          144.0457696282199,
          143.23638797883177,
          142.45744583652316,
          141.65698885137945,
          140.86102956996262,
          140.14594345422444,
          139.35847461594622,
          138.6006211801122,
          137.82183538399318,
          137.072338435447,
          136.30213993774234,
          135.53626912374216,
          134.79920144616733,
          134.04177552324853,
          133.31283513835234,
          132.5637609887409,
          131.8188958268165,
          131.1497124303479,
          130.41279269408554,
          129.70358729203284,
          128.97479321716753,
          128.27340788380351,
          127.55264987255424,
          126.83594174288041,
          126.1461878222668,
          125.43738249026991,
          124.75523415616783,
          124.05424448148507,
          123.35719361167034,
          122.73096635280795,
          122.04135087687644,
          121.37767070004648,
          120.69565928406637,
          120.03929719104866,
          119.36480598868228,
          118.69410469839232,
          118.04862737592319,
          117.38532158790477,
          116.7469616350778,
          116.09096980266531,
          115.43866393585327,
          114.83176090048,
          114.18653042769292,
          113.56556600734407,
          112.92745018231182,
          112.31333283956327,
          111.68225321246278,
          111.05471957127219,
          110.45078643391106,
          109.8301723059792,
          109.23289845040844,
          108.61912753756714,
          108.0088053543586,
          107.4604947440886,
          106.85668282580379,
          106.27557927652532,
          105.67842530340333,
          105.10372930496891,
          104.51315986303904,
          103.92590878352851,
          103.36074324723214,
          102.77996750444326,
          102.22103377814632
         ]
        }
       ],
       "layout": {
        "legend": {
         "title": {
          "text": "Tipo de Producción"
         },
         "tracegroupgap": 0
        },
        "template": {
         "data": {
          "bar": [
           {
            "error_x": {
             "color": "#2a3f5f"
            },
            "error_y": {
             "color": "#2a3f5f"
            },
            "marker": {
             "line": {
              "color": "#E5ECF6",
              "width": 0.5
             },
             "pattern": {
              "fillmode": "overlay",
              "size": 10,
              "solidity": 0.2
             }
            },
            "type": "bar"
           }
          ],
          "barpolar": [
           {
            "marker": {
             "line": {
              "color": "#E5ECF6",
              "width": 0.5
             },
             "pattern": {
              "fillmode": "overlay",
              "size": 10,
              "solidity": 0.2
             }
            },
            "type": "barpolar"
           }
          ],
          "carpet": [
           {
            "aaxis": {
             "endlinecolor": "#2a3f5f",
             "gridcolor": "white",
             "linecolor": "white",
             "minorgridcolor": "white",
             "startlinecolor": "#2a3f5f"
            },
            "baxis": {
             "endlinecolor": "#2a3f5f",
             "gridcolor": "white",
             "linecolor": "white",
             "minorgridcolor": "white",
             "startlinecolor": "#2a3f5f"
            },
            "type": "carpet"
           }
          ],
          "choropleth": [
           {
            "colorbar": {
             "outlinewidth": 0,
             "ticks": ""
            },
            "type": "choropleth"
           }
          ],
          "contour": [
           {
            "colorbar": {
             "outlinewidth": 0,
             "ticks": ""
            },
            "colorscale": [
             [
              0,
              "#0d0887"
             ],
             [
              0.1111111111111111,
              "#46039f"
             ],
             [
              0.2222222222222222,
              "#7201a8"
             ],
             [
              0.3333333333333333,
              "#9c179e"
             ],
             [
              0.4444444444444444,
              "#bd3786"
             ],
             [
              0.5555555555555556,
              "#d8576b"
             ],
             [
              0.6666666666666666,
              "#ed7953"
             ],
             [
              0.7777777777777778,
              "#fb9f3a"
             ],
             [
              0.8888888888888888,
              "#fdca26"
             ],
             [
              1,
              "#f0f921"
             ]
            ],
            "type": "contour"
           }
          ],
          "contourcarpet": [
           {
            "colorbar": {
             "outlinewidth": 0,
             "ticks": ""
            },
            "type": "contourcarpet"
           }
          ],
          "heatmap": [
           {
            "colorbar": {
             "outlinewidth": 0,
             "ticks": ""
            },
            "colorscale": [
             [
              0,
              "#0d0887"
             ],
             [
              0.1111111111111111,
              "#46039f"
             ],
             [
              0.2222222222222222,
              "#7201a8"
             ],
             [
              0.3333333333333333,
              "#9c179e"
             ],
             [
              0.4444444444444444,
              "#bd3786"
             ],
             [
              0.5555555555555556,
              "#d8576b"
             ],
             [
              0.6666666666666666,
              "#ed7953"
             ],
             [
              0.7777777777777778,
              "#fb9f3a"
             ],
             [
              0.8888888888888888,
              "#fdca26"
             ],
             [
              1,
              "#f0f921"
             ]
            ],
            "type": "heatmap"
           }
          ],
          "heatmapgl": [
           {
            "colorbar": {
             "outlinewidth": 0,
             "ticks": ""
            },
            "colorscale": [
             [
              0,
              "#0d0887"
             ],
             [
              0.1111111111111111,
              "#46039f"
             ],
             [
              0.2222222222222222,
              "#7201a8"
             ],
             [
              0.3333333333333333,
              "#9c179e"
             ],
             [
              0.4444444444444444,
              "#bd3786"
             ],
             [
              0.5555555555555556,
              "#d8576b"
             ],
             [
              0.6666666666666666,
              "#ed7953"
             ],
             [
              0.7777777777777778,
              "#fb9f3a"
             ],
             [
              0.8888888888888888,
              "#fdca26"
             ],
             [
              1,
              "#f0f921"
             ]
            ],
            "type": "heatmapgl"
           }
          ],
          "histogram": [
           {
            "marker": {
             "pattern": {
              "fillmode": "overlay",
              "size": 10,
              "solidity": 0.2
             }
            },
            "type": "histogram"
           }
          ],
          "histogram2d": [
           {
            "colorbar": {
             "outlinewidth": 0,
             "ticks": ""
            },
            "colorscale": [
             [
              0,
              "#0d0887"
             ],
             [
              0.1111111111111111,
              "#46039f"
             ],
             [
              0.2222222222222222,
              "#7201a8"
             ],
             [
              0.3333333333333333,
              "#9c179e"
             ],
             [
              0.4444444444444444,
              "#bd3786"
             ],
             [
              0.5555555555555556,
              "#d8576b"
             ],
             [
              0.6666666666666666,
              "#ed7953"
             ],
             [
              0.7777777777777778,
              "#fb9f3a"
             ],
             [
              0.8888888888888888,
              "#fdca26"
             ],
             [
              1,
              "#f0f921"
             ]
            ],
            "type": "histogram2d"
           }
          ],
          "histogram2dcontour": [
           {
            "colorbar": {
             "outlinewidth": 0,
             "ticks": ""
            },
            "colorscale": [
             [
              0,
              "#0d0887"
             ],
             [
              0.1111111111111111,
              "#46039f"
             ],
             [
              0.2222222222222222,
              "#7201a8"
             ],
             [
              0.3333333333333333,
              "#9c179e"
             ],
             [
              0.4444444444444444,
              "#bd3786"
             ],
             [
              0.5555555555555556,
              "#d8576b"
             ],
             [
              0.6666666666666666,
              "#ed7953"
             ],
             [
              0.7777777777777778,
              "#fb9f3a"
             ],
             [
              0.8888888888888888,
              "#fdca26"
             ],
             [
              1,
              "#f0f921"
             ]
            ],
            "type": "histogram2dcontour"
           }
          ],
          "mesh3d": [
           {
            "colorbar": {
             "outlinewidth": 0,
             "ticks": ""
            },
            "type": "mesh3d"
           }
          ],
          "parcoords": [
           {
            "line": {
             "colorbar": {
              "outlinewidth": 0,
              "ticks": ""
             }
            },
            "type": "parcoords"
           }
          ],
          "pie": [
           {
            "automargin": true,
            "type": "pie"
           }
          ],
          "scatter": [
           {
            "fillpattern": {
             "fillmode": "overlay",
             "size": 10,
             "solidity": 0.2
            },
            "type": "scatter"
           }
          ],
          "scatter3d": [
           {
            "line": {
             "colorbar": {
              "outlinewidth": 0,
              "ticks": ""
             }
            },
            "marker": {
             "colorbar": {
              "outlinewidth": 0,
              "ticks": ""
             }
            },
            "type": "scatter3d"
           }
          ],
          "scattercarpet": [
           {
            "marker": {
             "colorbar": {
              "outlinewidth": 0,
              "ticks": ""
             }
            },
            "type": "scattercarpet"
           }
          ],
          "scattergeo": [
           {
            "marker": {
             "colorbar": {
              "outlinewidth": 0,
              "ticks": ""
             }
            },
            "type": "scattergeo"
           }
          ],
          "scattergl": [
           {
            "marker": {
             "colorbar": {
              "outlinewidth": 0,
              "ticks": ""
             }
            },
            "type": "scattergl"
           }
          ],
          "scattermapbox": [
           {
            "marker": {
             "colorbar": {
              "outlinewidth": 0,
              "ticks": ""
             }
            },
            "type": "scattermapbox"
           }
          ],
          "scatterpolar": [
           {
            "marker": {
             "colorbar": {
              "outlinewidth": 0,
              "ticks": ""
             }
            },
            "type": "scatterpolar"
           }
          ],
          "scatterpolargl": [
           {
            "marker": {
             "colorbar": {
              "outlinewidth": 0,
              "ticks": ""
             }
            },
            "type": "scatterpolargl"
           }
          ],
          "scatterternary": [
           {
            "marker": {
             "colorbar": {
              "outlinewidth": 0,
              "ticks": ""
             }
            },
            "type": "scatterternary"
           }
          ],
          "surface": [
           {
            "colorbar": {
             "outlinewidth": 0,
             "ticks": ""
            },
            "colorscale": [
             [
              0,
              "#0d0887"
             ],
             [
              0.1111111111111111,
              "#46039f"
             ],
             [
              0.2222222222222222,
              "#7201a8"
             ],
             [
              0.3333333333333333,
              "#9c179e"
             ],
             [
              0.4444444444444444,
              "#bd3786"
             ],
             [
              0.5555555555555556,
              "#d8576b"
             ],
             [
              0.6666666666666666,
              "#ed7953"
             ],
             [
              0.7777777777777778,
              "#fb9f3a"
             ],
             [
              0.8888888888888888,
              "#fdca26"
             ],
             [
              1,
              "#f0f921"
             ]
            ],
            "type": "surface"
           }
          ],
          "table": [
           {
            "cells": {
             "fill": {
              "color": "#EBF0F8"
             },
             "line": {
              "color": "white"
             }
            },
            "header": {
             "fill": {
              "color": "#C8D4E3"
             },
             "line": {
              "color": "white"
             }
            },
            "type": "table"
           }
          ]
         },
         "layout": {
          "annotationdefaults": {
           "arrowcolor": "#2a3f5f",
           "arrowhead": 0,
           "arrowwidth": 1
          },
          "autotypenumbers": "strict",
          "coloraxis": {
           "colorbar": {
            "outlinewidth": 0,
            "ticks": ""
           }
          },
          "colorscale": {
           "diverging": [
            [
             0,
             "#8e0152"
            ],
            [
             0.1,
             "#c51b7d"
            ],
            [
             0.2,
             "#de77ae"
            ],
            [
             0.3,
             "#f1b6da"
            ],
            [
             0.4,
             "#fde0ef"
            ],
            [
             0.5,
             "#f7f7f7"
            ],
            [
             0.6,
             "#e6f5d0"
            ],
            [
             0.7,
             "#b8e186"
            ],
            [
             0.8,
             "#7fbc41"
            ],
            [
             0.9,
             "#4d9221"
            ],
            [
             1,
             "#276419"
            ]
           ],
           "sequential": [
            [
             0,
             "#0d0887"
            ],
            [
             0.1111111111111111,
             "#46039f"
            ],
            [
             0.2222222222222222,
             "#7201a8"
            ],
            [
             0.3333333333333333,
             "#9c179e"
            ],
            [
             0.4444444444444444,
             "#bd3786"
            ],
            [
             0.5555555555555556,
             "#d8576b"
            ],
            [
             0.6666666666666666,
             "#ed7953"
            ],
            [
             0.7777777777777778,
             "#fb9f3a"
            ],
            [
             0.8888888888888888,
             "#fdca26"
            ],
            [
             1,
             "#f0f921"
            ]
           ],
           "sequentialminus": [
            [
             0,
             "#0d0887"
            ],
            [
             0.1111111111111111,
             "#46039f"
            ],
            [
             0.2222222222222222,
             "#7201a8"
            ],
            [
             0.3333333333333333,
             "#9c179e"
            ],
            [
             0.4444444444444444,
             "#bd3786"
            ],
            [
             0.5555555555555556,
             "#d8576b"
            ],
            [
             0.6666666666666666,
             "#ed7953"
            ],
            [
             0.7777777777777778,
             "#fb9f3a"
            ],
            [
             0.8888888888888888,
             "#fdca26"
            ],
            [
             1,
             "#f0f921"
            ]
           ]
          },
          "colorway": [
           "#636efa",
           "#EF553B",
           "#00cc96",
           "#ab63fa",
           "#FFA15A",
           "#19d3f3",
           "#FF6692",
           "#B6E880",
           "#FF97FF",
           "#FECB52"
          ],
          "font": {
           "color": "#2a3f5f"
          },
          "geo": {
           "bgcolor": "white",
           "lakecolor": "white",
           "landcolor": "#E5ECF6",
           "showlakes": true,
           "showland": true,
           "subunitcolor": "white"
          },
          "hoverlabel": {
           "align": "left"
          },
          "hovermode": "closest",
          "mapbox": {
           "style": "light"
          },
          "paper_bgcolor": "white",
          "plot_bgcolor": "#E5ECF6",
          "polar": {
           "angularaxis": {
            "gridcolor": "white",
            "linecolor": "white",
            "ticks": ""
           },
           "bgcolor": "#E5ECF6",
           "radialaxis": {
            "gridcolor": "white",
            "linecolor": "white",
            "ticks": ""
           }
          },
          "scene": {
           "xaxis": {
            "backgroundcolor": "#E5ECF6",
            "gridcolor": "white",
            "gridwidth": 2,
            "linecolor": "white",
            "showbackground": true,
            "ticks": "",
            "zerolinecolor": "white"
           },
           "yaxis": {
            "backgroundcolor": "#E5ECF6",
            "gridcolor": "white",
            "gridwidth": 2,
            "linecolor": "white",
            "showbackground": true,
            "ticks": "",
            "zerolinecolor": "white"
           },
           "zaxis": {
            "backgroundcolor": "#E5ECF6",
            "gridcolor": "white",
            "gridwidth": 2,
            "linecolor": "white",
            "showbackground": true,
            "ticks": "",
            "zerolinecolor": "white"
           }
          },
          "shapedefaults": {
           "line": {
            "color": "#2a3f5f"
           }
          },
          "ternary": {
           "aaxis": {
            "gridcolor": "white",
            "linecolor": "white",
            "ticks": ""
           },
           "baxis": {
            "gridcolor": "white",
            "linecolor": "white",
            "ticks": ""
           },
           "bgcolor": "#E5ECF6",
           "caxis": {
            "gridcolor": "white",
            "linecolor": "white",
            "ticks": ""
           }
          },
          "title": {
           "x": 0.05
          },
          "xaxis": {
           "automargin": true,
           "gridcolor": "white",
           "linecolor": "white",
           "ticks": "",
           "title": {
            "standoff": 15
           },
           "zerolinecolor": "white",
           "zerolinewidth": 2
          },
          "yaxis": {
           "automargin": true,
           "gridcolor": "white",
           "linecolor": "white",
           "ticks": "",
           "title": {
            "standoff": 15
           },
           "zerolinecolor": "white",
           "zerolinewidth": 2
          }
         }
        },
        "title": {
         "text": "Producción de Aceite a lo largo del tiempo"
        },
        "xaxis": {
         "anchor": "y",
         "domain": [
          0,
          1
         ],
         "title": {
          "font": {
           "family": "Arial",
           "size": 16
          },
          "text": "Fecha"
         }
        },
        "yaxis": {
         "anchor": "x",
         "domain": [
          0,
          1
         ],
         "title": {
          "font": {
           "family": "Arial",
           "size": 16
          },
          "text": "Producción de Aceite (bbl/d)"
         }
        }
       }
      }
     },
     "metadata": {},
     "output_type": "display_data"
    }
   ],
   "source": [
    "# Visualizar los resultados para qoP\n",
    "fig_qoP = px.line(df_, x='Fecha', y='qoP [bbl/DC]', title='Producción de Aceite a lo largo del tiempo', markers='*')\n",
    "fig_qoP.update_traces(line=dict(color='green'))\n",
    "fig_qoP.add_trace(go.Scatter(x=df['Fecha'], y=df['Pred_qoP'], mode='lines', name='Predicción lin qo', line=dict(color='black', dash='dash')))\n",
    "fig_qoP.add_trace(go.Scatter(x=df['Fecha'], y=df['qo_pred_exp'], mode='lines', name='Predicción exp qo', line=dict(color='red', dash='dash')))\n",
    "fig_qoP.add_trace(go.Scatter(x=df_pred['Fecha'], y=df_pred['qo_pred_exp'], mode='lines', name='Predicción exp qo', line=dict(color='pink', dash='dash')))\n",
    "fig_qoP.update_layout(\n",
    "    legend_title_text='Tipo de Producción',\n",
    "    xaxis_title={'text': 'Fecha', 'font': {'size': 16, 'family': 'Arial'}},\n",
    "    yaxis_title={'text': 'Producción de Aceite (bbl/d)', 'font': {'size': 16, 'family': 'Arial'}}\n",
    ")\n",
    "fig_qoP.show()"
   ]
  },
  {
   "cell_type": "markdown",
   "metadata": {},
   "source": [
    "<a name=\"7\"></a>\n",
    "## 7 - Curva de declinación Hyperbólica\n"
   ]
  },
  {
   "cell_type": "code",
   "execution_count": 596,
   "metadata": {},
   "outputs": [
    {
     "name": "stdout",
     "output_type": "stream",
     "text": [
      "qi : 367.8428605738425, Di : 21.468441967421324, b : 5.869711557448377\n",
      "Métricas para la predicción de qoP:\n",
      "MSE: 2978.49669670883\n",
      "MAE: 38.24262578313731\n",
      "R²: 0.2971028480451292\n"
     ]
    }
   ],
   "source": [
    "\n",
    "#Convertimos a array las columnas a ajustar con el modelo exponencial\n",
    "yo=df['qoP [bbl/DC]'].values\n",
    "X=df['Fecha_norm'].values\n",
    "\n",
    "popt_exp, pcov_exp=curve_fit(func_hyper, X, yo, bounds=([0,0, 1e-10],[np.inf,np.inf,np.inf]))\n",
    "df['qo_pred_hyp']=func_hyper(df['Fecha_norm'],popt_exp[0],popt_exp[1],popt_exp[2])\n",
    "df_pred['qo_pred_hyp']=func_hyper(df_pred['Fecha_norm'],popt_exp[0],popt_exp[1],popt_exp[2])\n",
    "print(f'qi : {popt_exp[0]}, Di : {popt_exp[1]}, b : {popt_exp[2]}' )\n",
    "\n",
    "# Calcular métricas para qoP\n",
    "mse_qoP = mean_squared_error(df['qoP [bbl/DC]'], df['qo_pred_hyp'])\n",
    "mae_qoP = mean_absolute_error(df['qoP [bbl/DC]'], df['qo_pred_hyp'])\n",
    "r2_qoP = r2_score(df['qoP [bbl/DC]'], df['qo_pred_hyp'])\n",
    "\n",
    "# Imprimir las métricas\n",
    "print(\"Métricas para la predicción de qoP:\")\n",
    "print(f\"MSE: {mse_qoP}\")\n",
    "print(f\"MAE: {mae_qoP}\")\n",
    "print(f\"R²: {r2_qoP}\")\n",
    "\n"
   ]
  },
  {
   "cell_type": "code",
   "execution_count": 604,
   "metadata": {},
   "outputs": [
    {
     "data": {
      "application/vnd.plotly.v1+json": {
       "config": {
        "plotlyServerURL": "https://plot.ly"
       },
       "data": [
        {
         "hovertemplate": "Fecha=%{x}<br>qoP [bbl/DC]=%{y}<extra></extra>",
         "legendgroup": "",
         "line": {
          "color": "green",
          "dash": "solid"
         },
         "marker": {
          "symbol": "circle"
         },
         "mode": "markers+lines",
         "name": "",
         "orientation": "v",
         "showlegend": false,
         "type": "scatter",
         "x": [
          "2013-05-01T00:00:00",
          "2013-06-01T00:00:00",
          "2013-07-01T00:00:00",
          "2013-08-01T00:00:00",
          "2013-09-01T00:00:00",
          "2013-10-01T00:00:00",
          "2013-11-01T00:00:00",
          "2013-12-01T00:00:00",
          "2014-01-01T00:00:00",
          "2014-02-01T00:00:00",
          "2014-03-01T00:00:00",
          "2014-04-01T00:00:00",
          "2014-05-01T00:00:00",
          "2014-06-01T00:00:00",
          "2014-07-01T00:00:00",
          "2014-08-01T00:00:00",
          "2014-09-01T00:00:00",
          "2014-10-01T00:00:00",
          "2014-11-01T00:00:00",
          "2014-12-01T00:00:00",
          "2015-01-01T00:00:00",
          "2015-02-01T00:00:00",
          "2015-03-01T00:00:00",
          "2015-04-01T00:00:00",
          "2015-05-01T00:00:00",
          "2015-06-01T00:00:00",
          "2015-07-01T00:00:00",
          "2015-08-01T00:00:00",
          "2015-09-01T00:00:00",
          "2015-10-01T00:00:00",
          "2015-11-01T00:00:00",
          "2015-12-01T00:00:00",
          "2016-01-01T00:00:00",
          "2016-02-01T00:00:00",
          "2016-03-01T00:00:00",
          "2016-04-01T00:00:00",
          "2016-05-01T00:00:00",
          "2016-06-01T00:00:00",
          "2016-07-01T00:00:00",
          "2016-08-01T00:00:00",
          "2016-09-01T00:00:00",
          "2016-10-01T00:00:00",
          "2016-11-01T00:00:00",
          "2016-12-01T00:00:00",
          "2017-01-01T00:00:00",
          "2017-02-01T00:00:00",
          "2017-03-01T00:00:00",
          "2017-04-01T00:00:00",
          "2017-05-01T00:00:00",
          "2017-06-01T00:00:00",
          "2017-07-01T00:00:00",
          "2017-08-01T00:00:00",
          "2017-09-01T00:00:00",
          "2017-10-01T00:00:00",
          "2017-11-01T00:00:00",
          "2017-12-01T00:00:00",
          "2018-01-01T00:00:00",
          "2018-02-01T00:00:00",
          "2018-03-01T00:00:00",
          "2018-04-01T00:00:00",
          "2018-05-01T00:00:00",
          "2018-06-01T00:00:00",
          "2018-07-01T00:00:00",
          "2018-08-01T00:00:00",
          "2018-09-01T00:00:00",
          "2018-10-01T00:00:00",
          "2018-11-01T00:00:00",
          "2018-12-01T00:00:00",
          "2019-01-01T00:00:00",
          "2019-02-01T00:00:00",
          "2019-03-01T00:00:00",
          "2019-04-01T00:00:00",
          "2019-05-01T00:00:00",
          "2019-06-01T00:00:00",
          "2019-07-01T00:00:00",
          "2019-08-01T00:00:00",
          "2019-09-01T00:00:00",
          "2019-10-01T00:00:00",
          "2019-11-01T00:00:00",
          "2019-12-01T00:00:00",
          "2020-01-01T00:00:00",
          "2020-02-01T00:00:00",
          "2020-03-01T00:00:00",
          "2020-04-01T00:00:00",
          "2020-05-01T00:00:00",
          "2020-06-01T00:00:00",
          "2020-07-01T00:00:00",
          "2020-08-01T00:00:00",
          "2020-09-01T00:00:00",
          "2020-10-01T00:00:00",
          "2020-11-01T00:00:00",
          "2020-12-01T00:00:00",
          "2021-01-01T00:00:00",
          "2021-02-01T00:00:00",
          "2021-03-01T00:00:00",
          "2021-04-01T00:00:00",
          "2021-05-01T00:00:00",
          "2021-06-01T00:00:00",
          "2021-07-01T00:00:00",
          "2021-08-01T00:00:00",
          "2021-09-01T00:00:00",
          "2021-10-01T00:00:00",
          "2021-11-01T00:00:00",
          "2021-12-01T00:00:00",
          "2022-01-01T00:00:00",
          "2022-02-01T00:00:00",
          "2022-03-01T00:00:00",
          "2022-04-01T00:00:00",
          "2022-05-01T00:00:00",
          "2022-06-01T00:00:00",
          "2022-07-01T00:00:00",
          "2022-08-01T00:00:00",
          "2022-09-01T00:00:00",
          "2022-10-01T00:00:00",
          "2022-11-01T00:00:00",
          "2022-12-01T00:00:00",
          "2023-01-01T00:00:00",
          "2023-02-01T00:00:00",
          "2023-03-01T00:00:00",
          "2023-04-01T00:00:00",
          "2023-05-01T00:00:00",
          "2023-06-01T00:00:00",
          "2023-07-01T00:00:00",
          "2023-08-01T00:00:00",
          "2023-09-01T00:00:00",
          "2023-10-01T00:00:00",
          "2023-11-01T00:00:00",
          "2023-12-01T00:00:00"
         ],
         "xaxis": "x",
         "y": [
          86,
          215,
          283,
          337,
          351,
          366,
          352,
          382,
          412,
          235,
          316,
          504,
          586,
          533,
          576,
          587,
          542,
          543,
          509,
          443,
          420,
          344,
          336,
          365,
          417,
          411,
          414,
          405,
          345,
          336,
          445,
          421,
          411,
          434,
          441,
          451,
          462,
          431,
          403,
          434,
          377,
          342,
          359,
          346,
          338,
          350,
          338,
          338,
          304,
          299,
          332,
          303,
          287,
          312,
          77,
          0,
          0,
          196,
          284,
          112,
          173,
          173,
          157,
          198,
          210,
          243,
          221,
          224,
          256,
          217,
          197,
          136,
          119,
          114,
          235,
          185,
          213,
          208,
          204,
          192,
          221,
          208,
          169,
          139,
          159,
          155,
          147,
          145,
          135,
          127,
          137,
          165,
          169,
          210,
          217,
          190,
          242,
          276,
          176,
          148,
          201,
          178,
          171,
          210,
          186,
          184,
          200,
          179,
          181,
          197,
          176,
          171,
          210,
          201,
          197,
          184,
          200,
          201,
          188,
          161,
          115,
          148,
          164,
          173,
          172,
          129,
          143,
          147
         ],
         "yaxis": "y"
        },
        {
         "line": {
          "color": "red",
          "dash": "dash"
         },
         "mode": "lines",
         "name": "Data Ajuste exp qo",
         "type": "scatter",
         "x": [
          "2017-01-01T00:00:00",
          "2017-02-01T00:00:00",
          "2017-03-01T00:00:00",
          "2017-04-01T00:00:00",
          "2017-05-01T00:00:00",
          "2017-06-01T00:00:00",
          "2017-07-01T00:00:00",
          "2017-08-01T00:00:00",
          "2017-09-01T00:00:00",
          "2017-10-01T00:00:00",
          "2017-11-01T00:00:00",
          "2017-12-01T00:00:00",
          "2018-01-01T00:00:00",
          "2018-02-01T00:00:00",
          "2018-03-01T00:00:00",
          "2018-04-01T00:00:00",
          "2018-05-01T00:00:00",
          "2018-06-01T00:00:00",
          "2018-07-01T00:00:00",
          "2018-08-01T00:00:00",
          "2018-09-01T00:00:00",
          "2018-10-01T00:00:00",
          "2018-11-01T00:00:00",
          "2018-12-01T00:00:00",
          "2019-01-01T00:00:00",
          "2019-02-01T00:00:00",
          "2019-03-01T00:00:00",
          "2019-04-01T00:00:00",
          "2019-05-01T00:00:00",
          "2019-06-01T00:00:00",
          "2019-07-01T00:00:00",
          "2019-08-01T00:00:00",
          "2019-09-01T00:00:00",
          "2019-10-01T00:00:00",
          "2019-11-01T00:00:00",
          "2019-12-01T00:00:00",
          "2020-01-01T00:00:00",
          "2020-02-01T00:00:00",
          "2020-03-01T00:00:00",
          "2020-04-01T00:00:00",
          "2020-05-01T00:00:00",
          "2020-06-01T00:00:00",
          "2020-07-01T00:00:00",
          "2020-08-01T00:00:00",
          "2020-09-01T00:00:00",
          "2020-10-01T00:00:00",
          "2020-11-01T00:00:00",
          "2020-12-01T00:00:00",
          "2021-01-01T00:00:00",
          "2021-02-01T00:00:00",
          "2021-03-01T00:00:00",
          "2021-04-01T00:00:00",
          "2021-05-01T00:00:00",
          "2021-06-01T00:00:00",
          "2021-07-01T00:00:00",
          "2021-08-01T00:00:00",
          "2021-09-01T00:00:00",
          "2021-10-01T00:00:00",
          "2021-11-01T00:00:00",
          "2021-12-01T00:00:00",
          "2022-01-01T00:00:00",
          "2022-02-01T00:00:00",
          "2022-03-01T00:00:00",
          "2022-04-01T00:00:00",
          "2022-05-01T00:00:00",
          "2022-06-01T00:00:00",
          "2022-07-01T00:00:00",
          "2022-08-01T00:00:00",
          "2022-09-01T00:00:00",
          "2022-10-01T00:00:00",
          "2022-11-01T00:00:00",
          "2022-12-01T00:00:00",
          "2023-01-01T00:00:00",
          "2023-02-01T00:00:00",
          "2023-03-01T00:00:00",
          "2023-04-01T00:00:00",
          "2023-05-01T00:00:00",
          "2023-06-01T00:00:00",
          "2023-07-01T00:00:00",
          "2023-08-01T00:00:00",
          "2023-09-01T00:00:00",
          "2023-10-01T00:00:00",
          "2023-11-01T00:00:00",
          "2023-12-01T00:00:00"
         ],
         "y": [
          240.9358344965516,
          239.58203532823356,
          238.36578845309327,
          237.02643016777398,
          235.7374429355278,
          234.41285311328573,
          233.1380789266054,
          231.82809472266325,
          230.52547121511137,
          229.2718372262988,
          227.9835771249972,
          226.74376635845388,
          225.46971128500508,
          224.2028150250263,
          223.06464131847832,
          221.8112589541275,
          220.6050142304513,
          219.36545231383295,
          218.17250827366982,
          216.94661441330683,
          215.72760875241855,
          214.5544478811687,
          213.3488836125434,
          212.18865862498737,
          210.99638753682288,
          209.81081572447286,
          208.7457035233601,
          207.57277812432017,
          206.44396451236977,
          205.28397240058982,
          204.1676056763311,
          203.02040424263961,
          201.87964884197623,
          200.7817953678945,
          199.65361853131398,
          198.56787056228924,
          197.45213359197257,
          196.34266585838287,
          195.3104210643081,
          194.21298744198293,
          193.15682648570012,
          192.07149373892253,
          191.0269785642483,
          189.95361326246257,
          188.88627911438505,
          187.85908564083968,
          186.80352047581638,
          185.78765337330515,
          184.7437274203804,
          183.70566720382402,
          182.77307873417473,
          181.74609143485023,
          180.75772743170737,
          179.7420642300278,
          178.7645984439246,
          177.7601344744873,
          176.7613145076965,
          175.80005851023125,
          174.8122520533847,
          173.86159536594863,
          172.88468097834993,
          171.9132557944935,
          171.04053192824537,
          170.07946887028652,
          169.15454980667457,
          168.20408393129767,
          167.28936350772855,
          166.34937796486213,
          165.41467412552421,
          164.51512295385083,
          163.59072564659246,
          162.70109339535324,
          161.78688897498424,
          160.8778213960715,
          160.06111931202634,
          159.1617486947105,
          158.2962019209384,
          157.4067482331702,
          156.55074542960804,
          155.67109932214947,
          154.7963958757574,
          153.95458858135024,
          153.08953007141653,
          152.257004983333
         ]
        },
        {
         "line": {
          "color": "blue",
          "dash": "dash"
         },
         "mode": "lines",
         "name": "Data Ajuste qo",
         "type": "scatter",
         "x": [
          "2017-01-01T00:00:00",
          "2017-02-01T00:00:00",
          "2017-03-01T00:00:00",
          "2017-04-01T00:00:00",
          "2017-05-01T00:00:00",
          "2017-06-01T00:00:00",
          "2017-07-01T00:00:00",
          "2017-08-01T00:00:00",
          "2017-09-01T00:00:00",
          "2017-10-01T00:00:00",
          "2017-11-01T00:00:00",
          "2017-12-01T00:00:00",
          "2018-01-01T00:00:00",
          "2018-02-01T00:00:00",
          "2018-03-01T00:00:00",
          "2018-04-01T00:00:00",
          "2018-05-01T00:00:00",
          "2018-06-01T00:00:00",
          "2018-07-01T00:00:00",
          "2018-08-01T00:00:00",
          "2018-09-01T00:00:00",
          "2018-10-01T00:00:00",
          "2018-11-01T00:00:00",
          "2018-12-01T00:00:00",
          "2019-01-01T00:00:00",
          "2019-02-01T00:00:00",
          "2019-03-01T00:00:00",
          "2019-04-01T00:00:00",
          "2019-05-01T00:00:00",
          "2019-06-01T00:00:00",
          "2019-07-01T00:00:00",
          "2019-08-01T00:00:00",
          "2019-09-01T00:00:00",
          "2019-10-01T00:00:00",
          "2019-11-01T00:00:00",
          "2019-12-01T00:00:00",
          "2020-01-01T00:00:00",
          "2020-02-01T00:00:00",
          "2020-03-01T00:00:00",
          "2020-04-01T00:00:00",
          "2020-05-01T00:00:00",
          "2020-06-01T00:00:00",
          "2020-07-01T00:00:00",
          "2020-08-01T00:00:00",
          "2020-09-01T00:00:00",
          "2020-10-01T00:00:00",
          "2020-11-01T00:00:00",
          "2020-12-01T00:00:00",
          "2021-01-01T00:00:00",
          "2021-02-01T00:00:00",
          "2021-03-01T00:00:00",
          "2021-04-01T00:00:00",
          "2021-05-01T00:00:00",
          "2021-06-01T00:00:00",
          "2021-07-01T00:00:00",
          "2021-08-01T00:00:00",
          "2021-09-01T00:00:00",
          "2021-10-01T00:00:00",
          "2021-11-01T00:00:00",
          "2021-12-01T00:00:00",
          "2022-01-01T00:00:00",
          "2022-02-01T00:00:00",
          "2022-03-01T00:00:00",
          "2022-04-01T00:00:00",
          "2022-05-01T00:00:00",
          "2022-06-01T00:00:00",
          "2022-07-01T00:00:00",
          "2022-08-01T00:00:00",
          "2022-09-01T00:00:00",
          "2022-10-01T00:00:00",
          "2022-11-01T00:00:00",
          "2022-12-01T00:00:00",
          "2023-01-01T00:00:00",
          "2023-02-01T00:00:00",
          "2023-03-01T00:00:00",
          "2023-04-01T00:00:00",
          "2023-05-01T00:00:00",
          "2023-06-01T00:00:00",
          "2023-07-01T00:00:00",
          "2023-08-01T00:00:00",
          "2023-09-01T00:00:00",
          "2023-10-01T00:00:00",
          "2023-11-01T00:00:00",
          "2023-12-01T00:00:00"
         ],
         "y": [
          367.8428605738425,
          313.67935099923574,
          291.156141225534,
          275.1966030071668,
          264.1223302612356,
          255.2756187850702,
          248.34308268040257,
          242.34913780178488,
          237.2266236214114,
          232.90151563192975,
          228.94547997207076,
          225.51779503857813,
          222.31580081610423,
          219.40221727691767,
          216.98106520319868,
          214.5006956442757,
          212.27443494418208,
          210.13096678125484,
          208.1904935368016,
          206.30788546032667,
          204.5363515595361,
          202.91680896147588,
          201.3316385433808,
          199.87513760524877,
          198.4429708008385,
          197.0784627237627,
          195.8994042849496,
          194.648487299633,
          193.48832852913486,
          192.33768039101386,
          191.26743511829383,
          190.20310634149814,
          189.17817978001273,
          188.22135967491823,
          187.26654297249254,
          186.37331477851635,
          185.48020526763304,
          184.61569401060044,
          183.83138155494865,
          183.0176464551309,
          182.2531391485686,
          181.4856323713162,
          180.76352730600172,
          180.0376040606874,
          179.3312470214222,
          178.66540435319953,
          177.99482004140683,
          177.36198395702516,
          176.72395205248498,
          176.10136204963726,
          175.55172964043805,
          174.9566886887905,
          174.39378389326887,
          173.82493857419087,
          173.28635710038287,
          172.74164635614684,
          172.20848544632966,
          171.70309990897496,
          171.19138691088256,
          170.7059883685346,
          170.21417642668914,
          169.73193671826388,
          169.30430987009615,
          168.8393638193306,
          168.39763838638942,
          167.94940020669372,
          167.52330815794502,
          167.09069761060664,
          166.66564721602617,
          166.26127893401457,
          165.8504105558905,
          165.4593445718755,
          165.06180502891507,
          164.67073589429722,
          164.32291322492858,
          163.9436334599944,
          163.58223989382964,
          163.21447417138896,
          162.86391117667165,
          162.5070276846668,
          162.1554484062126,
          161.82012469576424,
          161.47856656460965,
          161.15268566178224
         ]
        },
        {
         "line": {
          "color": "pink",
          "dash": "dash"
         },
         "mode": "lines",
         "name": "Predicción exp qo",
         "type": "scatter",
         "x": [
          "2024-01-01T00:00:00",
          "2024-02-01T00:00:00",
          "2024-03-01T00:00:00",
          "2024-04-01T00:00:00",
          "2024-05-01T00:00:00",
          "2024-06-01T00:00:00",
          "2024-07-01T00:00:00",
          "2024-08-01T00:00:00",
          "2024-09-01T00:00:00",
          "2024-10-01T00:00:00",
          "2024-11-01T00:00:00",
          "2024-12-01T00:00:00",
          "2025-01-01T00:00:00",
          "2025-02-01T00:00:00",
          "2025-03-01T00:00:00",
          "2025-04-01T00:00:00",
          "2025-05-01T00:00:00",
          "2025-06-01T00:00:00",
          "2025-07-01T00:00:00",
          "2025-08-01T00:00:00",
          "2025-09-01T00:00:00",
          "2025-10-01T00:00:00",
          "2025-11-01T00:00:00",
          "2025-12-01T00:00:00",
          "2026-01-01T00:00:00",
          "2026-02-01T00:00:00",
          "2026-03-01T00:00:00",
          "2026-04-01T00:00:00",
          "2026-05-01T00:00:00",
          "2026-06-01T00:00:00",
          "2026-07-01T00:00:00",
          "2026-08-01T00:00:00",
          "2026-09-01T00:00:00",
          "2026-10-01T00:00:00",
          "2026-11-01T00:00:00",
          "2026-12-01T00:00:00",
          "2027-01-01T00:00:00",
          "2027-02-01T00:00:00",
          "2027-03-01T00:00:00",
          "2027-04-01T00:00:00",
          "2027-05-01T00:00:00",
          "2027-06-01T00:00:00",
          "2027-07-01T00:00:00",
          "2027-08-01T00:00:00",
          "2027-09-01T00:00:00",
          "2027-10-01T00:00:00",
          "2027-11-01T00:00:00",
          "2027-12-01T00:00:00",
          "2028-01-01T00:00:00",
          "2028-02-01T00:00:00",
          "2028-03-01T00:00:00",
          "2028-04-01T00:00:00",
          "2028-05-01T00:00:00",
          "2028-06-01T00:00:00",
          "2028-07-01T00:00:00",
          "2028-08-01T00:00:00",
          "2028-09-01T00:00:00",
          "2028-10-01T00:00:00",
          "2028-11-01T00:00:00",
          "2028-12-01T00:00:00",
          "2029-01-01T00:00:00",
          "2029-02-01T00:00:00",
          "2029-03-01T00:00:00",
          "2029-04-01T00:00:00",
          "2029-05-01T00:00:00",
          "2029-06-01T00:00:00",
          "2029-07-01T00:00:00",
          "2029-08-01T00:00:00",
          "2029-09-01T00:00:00",
          "2029-10-01T00:00:00",
          "2029-11-01T00:00:00",
          "2029-12-01T00:00:00"
         ],
         "y": [
          151.4014850597494,
          150.55077223414028,
          149.75927207698788,
          148.91778671467395,
          148.10794822706472,
          147.27574152128324,
          146.4748327352624,
          145.65180237470656,
          144.83339655586718,
          144.0457696282199,
          143.23638797883177,
          142.45744583652316,
          141.65698885137945,
          140.86102956996262,
          140.14594345422444,
          139.35847461594622,
          138.6006211801122,
          137.82183538399318,
          137.072338435447,
          136.30213993774234,
          135.53626912374216,
          134.79920144616733,
          134.04177552324853,
          133.31283513835234,
          132.5637609887409,
          131.8188958268165,
          131.1497124303479,
          130.41279269408554,
          129.70358729203284,
          128.97479321716753,
          128.27340788380351,
          127.55264987255424,
          126.83594174288041,
          126.1461878222668,
          125.43738249026991,
          124.75523415616783,
          124.05424448148507,
          123.35719361167034,
          122.73096635280795,
          122.04135087687644,
          121.37767070004648,
          120.69565928406637,
          120.03929719104866,
          119.36480598868228,
          118.69410469839232,
          118.04862737592319,
          117.38532158790477,
          116.7469616350778,
          116.09096980266531,
          115.43866393585327,
          114.83176090048,
          114.18653042769292,
          113.56556600734407,
          112.92745018231182,
          112.31333283956327,
          111.68225321246278,
          111.05471957127219,
          110.45078643391106,
          109.8301723059792,
          109.23289845040844,
          108.61912753756714,
          108.0088053543586,
          107.4604947440886,
          106.85668282580379,
          106.27557927652532,
          105.67842530340333,
          105.10372930496891,
          104.51315986303904,
          103.92590878352851,
          103.36074324723214,
          102.77996750444326,
          102.22103377814632
         ]
        },
        {
         "line": {
          "color": "lightblue",
          "dash": "dash"
         },
         "mode": "lines",
         "name": "Predicción hyp qo",
         "type": "scatter",
         "x": [
          "2024-01-01T00:00:00",
          "2024-02-01T00:00:00",
          "2024-03-01T00:00:00",
          "2024-04-01T00:00:00",
          "2024-05-01T00:00:00",
          "2024-06-01T00:00:00",
          "2024-07-01T00:00:00",
          "2024-08-01T00:00:00",
          "2024-09-01T00:00:00",
          "2024-10-01T00:00:00",
          "2024-11-01T00:00:00",
          "2024-12-01T00:00:00",
          "2025-01-01T00:00:00",
          "2025-02-01T00:00:00",
          "2025-03-01T00:00:00",
          "2025-04-01T00:00:00",
          "2025-05-01T00:00:00",
          "2025-06-01T00:00:00",
          "2025-07-01T00:00:00",
          "2025-08-01T00:00:00",
          "2025-09-01T00:00:00",
          "2025-10-01T00:00:00",
          "2025-11-01T00:00:00",
          "2025-12-01T00:00:00",
          "2026-01-01T00:00:00",
          "2026-02-01T00:00:00",
          "2026-03-01T00:00:00",
          "2026-04-01T00:00:00",
          "2026-05-01T00:00:00",
          "2026-06-01T00:00:00",
          "2026-07-01T00:00:00",
          "2026-08-01T00:00:00",
          "2026-09-01T00:00:00",
          "2026-10-01T00:00:00",
          "2026-11-01T00:00:00",
          "2026-12-01T00:00:00",
          "2027-01-01T00:00:00",
          "2027-02-01T00:00:00",
          "2027-03-01T00:00:00",
          "2027-04-01T00:00:00",
          "2027-05-01T00:00:00",
          "2027-06-01T00:00:00",
          "2027-07-01T00:00:00",
          "2027-08-01T00:00:00",
          "2027-09-01T00:00:00",
          "2027-10-01T00:00:00",
          "2027-11-01T00:00:00",
          "2027-12-01T00:00:00",
          "2028-01-01T00:00:00",
          "2028-02-01T00:00:00",
          "2028-03-01T00:00:00",
          "2028-04-01T00:00:00",
          "2028-05-01T00:00:00",
          "2028-06-01T00:00:00",
          "2028-07-01T00:00:00",
          "2028-08-01T00:00:00",
          "2028-09-01T00:00:00",
          "2028-10-01T00:00:00",
          "2028-11-01T00:00:00",
          "2028-12-01T00:00:00",
          "2029-01-01T00:00:00",
          "2029-02-01T00:00:00",
          "2029-03-01T00:00:00",
          "2029-04-01T00:00:00",
          "2029-05-01T00:00:00",
          "2029-06-01T00:00:00",
          "2029-07-01T00:00:00",
          "2029-08-01T00:00:00",
          "2029-09-01T00:00:00",
          "2029-10-01T00:00:00",
          "2029-11-01T00:00:00",
          "2029-12-01T00:00:00"
         ],
         "y": [
          160.82063157789605,
          160.4932215968504,
          160.19103367545657,
          159.8722780499166,
          159.56790682356078,
          159.25752467947123,
          158.9610603179792,
          158.6586526975455,
          158.36015361371457,
          158.0749176820123,
          157.78384203182677,
          157.50562510611513,
          157.2216376559118,
          156.94113094839733,
          156.69069664668174,
          156.41660038901617,
          156.1544509962313,
          155.8867025118889,
          155.63056473042136,
          155.36889669267956,
          155.11022149009358,
          154.86268100018603,
          154.60971316835753,
          154.3675833671796,
          154.1200937040145,
          153.87530446057187,
          153.6564805048757,
          153.416682512654,
          153.18704604989566,
          152.95221358745724,
          152.7272905368147,
          152.4972362423255,
          152.26954167543818,
          152.05139695004587,
          151.82821694123493,
          151.61436109387026,
          151.39553241531922,
          151.17885525463254,
          150.9849637482416,
          150.77227478527703,
          150.5683907787632,
          150.35968437135716,
          150.15958774912085,
          149.95472778494275,
          149.75177256892243,
          149.55714717310497,
          149.35784563193823,
          149.1666972108131,
          148.97092921707207,
          148.77691275909052,
          148.59697361161662,
          148.40626590335395,
          148.22329926469274,
          148.03584974798753,
          147.85598639415815,
          147.6716933263707,
          147.4889668413495,
          147.31360325781355,
          147.13388834103702,
          146.96139476590645,
          146.7846006514881,
          146.60925736676637,
          146.45211155910013,
          146.27946935724378,
          146.11371850013376,
          145.94378890559085,
          145.78062501029677,
          145.61333003161025,
          145.44734511014792,
          145.28794408707716,
          145.1244822132626,
          144.96748852531283
         ]
        }
       ],
       "layout": {
        "legend": {
         "title": {
          "text": "Tipo de Producción"
         },
         "tracegroupgap": 0
        },
        "template": {
         "data": {
          "bar": [
           {
            "error_x": {
             "color": "#2a3f5f"
            },
            "error_y": {
             "color": "#2a3f5f"
            },
            "marker": {
             "line": {
              "color": "#E5ECF6",
              "width": 0.5
             },
             "pattern": {
              "fillmode": "overlay",
              "size": 10,
              "solidity": 0.2
             }
            },
            "type": "bar"
           }
          ],
          "barpolar": [
           {
            "marker": {
             "line": {
              "color": "#E5ECF6",
              "width": 0.5
             },
             "pattern": {
              "fillmode": "overlay",
              "size": 10,
              "solidity": 0.2
             }
            },
            "type": "barpolar"
           }
          ],
          "carpet": [
           {
            "aaxis": {
             "endlinecolor": "#2a3f5f",
             "gridcolor": "white",
             "linecolor": "white",
             "minorgridcolor": "white",
             "startlinecolor": "#2a3f5f"
            },
            "baxis": {
             "endlinecolor": "#2a3f5f",
             "gridcolor": "white",
             "linecolor": "white",
             "minorgridcolor": "white",
             "startlinecolor": "#2a3f5f"
            },
            "type": "carpet"
           }
          ],
          "choropleth": [
           {
            "colorbar": {
             "outlinewidth": 0,
             "ticks": ""
            },
            "type": "choropleth"
           }
          ],
          "contour": [
           {
            "colorbar": {
             "outlinewidth": 0,
             "ticks": ""
            },
            "colorscale": [
             [
              0,
              "#0d0887"
             ],
             [
              0.1111111111111111,
              "#46039f"
             ],
             [
              0.2222222222222222,
              "#7201a8"
             ],
             [
              0.3333333333333333,
              "#9c179e"
             ],
             [
              0.4444444444444444,
              "#bd3786"
             ],
             [
              0.5555555555555556,
              "#d8576b"
             ],
             [
              0.6666666666666666,
              "#ed7953"
             ],
             [
              0.7777777777777778,
              "#fb9f3a"
             ],
             [
              0.8888888888888888,
              "#fdca26"
             ],
             [
              1,
              "#f0f921"
             ]
            ],
            "type": "contour"
           }
          ],
          "contourcarpet": [
           {
            "colorbar": {
             "outlinewidth": 0,
             "ticks": ""
            },
            "type": "contourcarpet"
           }
          ],
          "heatmap": [
           {
            "colorbar": {
             "outlinewidth": 0,
             "ticks": ""
            },
            "colorscale": [
             [
              0,
              "#0d0887"
             ],
             [
              0.1111111111111111,
              "#46039f"
             ],
             [
              0.2222222222222222,
              "#7201a8"
             ],
             [
              0.3333333333333333,
              "#9c179e"
             ],
             [
              0.4444444444444444,
              "#bd3786"
             ],
             [
              0.5555555555555556,
              "#d8576b"
             ],
             [
              0.6666666666666666,
              "#ed7953"
             ],
             [
              0.7777777777777778,
              "#fb9f3a"
             ],
             [
              0.8888888888888888,
              "#fdca26"
             ],
             [
              1,
              "#f0f921"
             ]
            ],
            "type": "heatmap"
           }
          ],
          "heatmapgl": [
           {
            "colorbar": {
             "outlinewidth": 0,
             "ticks": ""
            },
            "colorscale": [
             [
              0,
              "#0d0887"
             ],
             [
              0.1111111111111111,
              "#46039f"
             ],
             [
              0.2222222222222222,
              "#7201a8"
             ],
             [
              0.3333333333333333,
              "#9c179e"
             ],
             [
              0.4444444444444444,
              "#bd3786"
             ],
             [
              0.5555555555555556,
              "#d8576b"
             ],
             [
              0.6666666666666666,
              "#ed7953"
             ],
             [
              0.7777777777777778,
              "#fb9f3a"
             ],
             [
              0.8888888888888888,
              "#fdca26"
             ],
             [
              1,
              "#f0f921"
             ]
            ],
            "type": "heatmapgl"
           }
          ],
          "histogram": [
           {
            "marker": {
             "pattern": {
              "fillmode": "overlay",
              "size": 10,
              "solidity": 0.2
             }
            },
            "type": "histogram"
           }
          ],
          "histogram2d": [
           {
            "colorbar": {
             "outlinewidth": 0,
             "ticks": ""
            },
            "colorscale": [
             [
              0,
              "#0d0887"
             ],
             [
              0.1111111111111111,
              "#46039f"
             ],
             [
              0.2222222222222222,
              "#7201a8"
             ],
             [
              0.3333333333333333,
              "#9c179e"
             ],
             [
              0.4444444444444444,
              "#bd3786"
             ],
             [
              0.5555555555555556,
              "#d8576b"
             ],
             [
              0.6666666666666666,
              "#ed7953"
             ],
             [
              0.7777777777777778,
              "#fb9f3a"
             ],
             [
              0.8888888888888888,
              "#fdca26"
             ],
             [
              1,
              "#f0f921"
             ]
            ],
            "type": "histogram2d"
           }
          ],
          "histogram2dcontour": [
           {
            "colorbar": {
             "outlinewidth": 0,
             "ticks": ""
            },
            "colorscale": [
             [
              0,
              "#0d0887"
             ],
             [
              0.1111111111111111,
              "#46039f"
             ],
             [
              0.2222222222222222,
              "#7201a8"
             ],
             [
              0.3333333333333333,
              "#9c179e"
             ],
             [
              0.4444444444444444,
              "#bd3786"
             ],
             [
              0.5555555555555556,
              "#d8576b"
             ],
             [
              0.6666666666666666,
              "#ed7953"
             ],
             [
              0.7777777777777778,
              "#fb9f3a"
             ],
             [
              0.8888888888888888,
              "#fdca26"
             ],
             [
              1,
              "#f0f921"
             ]
            ],
            "type": "histogram2dcontour"
           }
          ],
          "mesh3d": [
           {
            "colorbar": {
             "outlinewidth": 0,
             "ticks": ""
            },
            "type": "mesh3d"
           }
          ],
          "parcoords": [
           {
            "line": {
             "colorbar": {
              "outlinewidth": 0,
              "ticks": ""
             }
            },
            "type": "parcoords"
           }
          ],
          "pie": [
           {
            "automargin": true,
            "type": "pie"
           }
          ],
          "scatter": [
           {
            "fillpattern": {
             "fillmode": "overlay",
             "size": 10,
             "solidity": 0.2
            },
            "type": "scatter"
           }
          ],
          "scatter3d": [
           {
            "line": {
             "colorbar": {
              "outlinewidth": 0,
              "ticks": ""
             }
            },
            "marker": {
             "colorbar": {
              "outlinewidth": 0,
              "ticks": ""
             }
            },
            "type": "scatter3d"
           }
          ],
          "scattercarpet": [
           {
            "marker": {
             "colorbar": {
              "outlinewidth": 0,
              "ticks": ""
             }
            },
            "type": "scattercarpet"
           }
          ],
          "scattergeo": [
           {
            "marker": {
             "colorbar": {
              "outlinewidth": 0,
              "ticks": ""
             }
            },
            "type": "scattergeo"
           }
          ],
          "scattergl": [
           {
            "marker": {
             "colorbar": {
              "outlinewidth": 0,
              "ticks": ""
             }
            },
            "type": "scattergl"
           }
          ],
          "scattermapbox": [
           {
            "marker": {
             "colorbar": {
              "outlinewidth": 0,
              "ticks": ""
             }
            },
            "type": "scattermapbox"
           }
          ],
          "scatterpolar": [
           {
            "marker": {
             "colorbar": {
              "outlinewidth": 0,
              "ticks": ""
             }
            },
            "type": "scatterpolar"
           }
          ],
          "scatterpolargl": [
           {
            "marker": {
             "colorbar": {
              "outlinewidth": 0,
              "ticks": ""
             }
            },
            "type": "scatterpolargl"
           }
          ],
          "scatterternary": [
           {
            "marker": {
             "colorbar": {
              "outlinewidth": 0,
              "ticks": ""
             }
            },
            "type": "scatterternary"
           }
          ],
          "surface": [
           {
            "colorbar": {
             "outlinewidth": 0,
             "ticks": ""
            },
            "colorscale": [
             [
              0,
              "#0d0887"
             ],
             [
              0.1111111111111111,
              "#46039f"
             ],
             [
              0.2222222222222222,
              "#7201a8"
             ],
             [
              0.3333333333333333,
              "#9c179e"
             ],
             [
              0.4444444444444444,
              "#bd3786"
             ],
             [
              0.5555555555555556,
              "#d8576b"
             ],
             [
              0.6666666666666666,
              "#ed7953"
             ],
             [
              0.7777777777777778,
              "#fb9f3a"
             ],
             [
              0.8888888888888888,
              "#fdca26"
             ],
             [
              1,
              "#f0f921"
             ]
            ],
            "type": "surface"
           }
          ],
          "table": [
           {
            "cells": {
             "fill": {
              "color": "#EBF0F8"
             },
             "line": {
              "color": "white"
             }
            },
            "header": {
             "fill": {
              "color": "#C8D4E3"
             },
             "line": {
              "color": "white"
             }
            },
            "type": "table"
           }
          ]
         },
         "layout": {
          "annotationdefaults": {
           "arrowcolor": "#2a3f5f",
           "arrowhead": 0,
           "arrowwidth": 1
          },
          "autotypenumbers": "strict",
          "coloraxis": {
           "colorbar": {
            "outlinewidth": 0,
            "ticks": ""
           }
          },
          "colorscale": {
           "diverging": [
            [
             0,
             "#8e0152"
            ],
            [
             0.1,
             "#c51b7d"
            ],
            [
             0.2,
             "#de77ae"
            ],
            [
             0.3,
             "#f1b6da"
            ],
            [
             0.4,
             "#fde0ef"
            ],
            [
             0.5,
             "#f7f7f7"
            ],
            [
             0.6,
             "#e6f5d0"
            ],
            [
             0.7,
             "#b8e186"
            ],
            [
             0.8,
             "#7fbc41"
            ],
            [
             0.9,
             "#4d9221"
            ],
            [
             1,
             "#276419"
            ]
           ],
           "sequential": [
            [
             0,
             "#0d0887"
            ],
            [
             0.1111111111111111,
             "#46039f"
            ],
            [
             0.2222222222222222,
             "#7201a8"
            ],
            [
             0.3333333333333333,
             "#9c179e"
            ],
            [
             0.4444444444444444,
             "#bd3786"
            ],
            [
             0.5555555555555556,
             "#d8576b"
            ],
            [
             0.6666666666666666,
             "#ed7953"
            ],
            [
             0.7777777777777778,
             "#fb9f3a"
            ],
            [
             0.8888888888888888,
             "#fdca26"
            ],
            [
             1,
             "#f0f921"
            ]
           ],
           "sequentialminus": [
            [
             0,
             "#0d0887"
            ],
            [
             0.1111111111111111,
             "#46039f"
            ],
            [
             0.2222222222222222,
             "#7201a8"
            ],
            [
             0.3333333333333333,
             "#9c179e"
            ],
            [
             0.4444444444444444,
             "#bd3786"
            ],
            [
             0.5555555555555556,
             "#d8576b"
            ],
            [
             0.6666666666666666,
             "#ed7953"
            ],
            [
             0.7777777777777778,
             "#fb9f3a"
            ],
            [
             0.8888888888888888,
             "#fdca26"
            ],
            [
             1,
             "#f0f921"
            ]
           ]
          },
          "colorway": [
           "#636efa",
           "#EF553B",
           "#00cc96",
           "#ab63fa",
           "#FFA15A",
           "#19d3f3",
           "#FF6692",
           "#B6E880",
           "#FF97FF",
           "#FECB52"
          ],
          "font": {
           "color": "#2a3f5f"
          },
          "geo": {
           "bgcolor": "white",
           "lakecolor": "white",
           "landcolor": "#E5ECF6",
           "showlakes": true,
           "showland": true,
           "subunitcolor": "white"
          },
          "hoverlabel": {
           "align": "left"
          },
          "hovermode": "closest",
          "mapbox": {
           "style": "light"
          },
          "paper_bgcolor": "white",
          "plot_bgcolor": "#E5ECF6",
          "polar": {
           "angularaxis": {
            "gridcolor": "white",
            "linecolor": "white",
            "ticks": ""
           },
           "bgcolor": "#E5ECF6",
           "radialaxis": {
            "gridcolor": "white",
            "linecolor": "white",
            "ticks": ""
           }
          },
          "scene": {
           "xaxis": {
            "backgroundcolor": "#E5ECF6",
            "gridcolor": "white",
            "gridwidth": 2,
            "linecolor": "white",
            "showbackground": true,
            "ticks": "",
            "zerolinecolor": "white"
           },
           "yaxis": {
            "backgroundcolor": "#E5ECF6",
            "gridcolor": "white",
            "gridwidth": 2,
            "linecolor": "white",
            "showbackground": true,
            "ticks": "",
            "zerolinecolor": "white"
           },
           "zaxis": {
            "backgroundcolor": "#E5ECF6",
            "gridcolor": "white",
            "gridwidth": 2,
            "linecolor": "white",
            "showbackground": true,
            "ticks": "",
            "zerolinecolor": "white"
           }
          },
          "shapedefaults": {
           "line": {
            "color": "#2a3f5f"
           }
          },
          "ternary": {
           "aaxis": {
            "gridcolor": "white",
            "linecolor": "white",
            "ticks": ""
           },
           "baxis": {
            "gridcolor": "white",
            "linecolor": "white",
            "ticks": ""
           },
           "bgcolor": "#E5ECF6",
           "caxis": {
            "gridcolor": "white",
            "linecolor": "white",
            "ticks": ""
           }
          },
          "title": {
           "x": 0.05
          },
          "xaxis": {
           "automargin": true,
           "gridcolor": "white",
           "linecolor": "white",
           "ticks": "",
           "title": {
            "standoff": 15
           },
           "zerolinecolor": "white",
           "zerolinewidth": 2
          },
          "yaxis": {
           "automargin": true,
           "gridcolor": "white",
           "linecolor": "white",
           "ticks": "",
           "title": {
            "standoff": 15
           },
           "zerolinecolor": "white",
           "zerolinewidth": 2
          }
         }
        },
        "title": {
         "text": "Producción de Aceite a lo largo del tiempo"
        },
        "xaxis": {
         "anchor": "y",
         "domain": [
          0,
          1
         ],
         "title": {
          "font": {
           "family": "Arial",
           "size": 16
          },
          "text": "Fecha"
         }
        },
        "yaxis": {
         "anchor": "x",
         "domain": [
          0,
          1
         ],
         "title": {
          "font": {
           "family": "Arial",
           "size": 16
          },
          "text": "Producción de Aceite (bbl/d)"
         }
        }
       }
      }
     },
     "metadata": {},
     "output_type": "display_data"
    }
   ],
   "source": [
    "# Visualizar los resultados para qoP\n",
    "fig_qoP = px.line(df_, x='Fecha', y='qoP [bbl/DC]', title='Producción de Aceite a lo largo del tiempo', markers='*')\n",
    "fig_qoP.update_traces(line=dict(color='green'))\n",
    "fig_qoP.add_trace(go.Scatter(x=df['Fecha'], y=df['qo_pred_exp'], mode='lines', name='Data Ajuste exp qo', line=dict(color='red', dash='dash')))\n",
    "fig_qoP.add_trace(go.Scatter(x=df['Fecha'], y=df['qo_pred_hyp'], mode='lines', name='Data Ajuste qo', line=dict(color='blue', dash='dash')))\n",
    "fig_qoP.add_trace(go.Scatter(x=df_pred['Fecha'], y=df_pred['qo_pred_exp'], mode='lines', name='Predicción exp qo', line=dict(color='pink', dash='dash')))\n",
    "fig_qoP.add_trace(go.Scatter(x=df_pred['Fecha'], y=df_pred['qo_pred_hyp'], mode='lines', name='Predicción hyp qo', line=dict(color='lightblue', dash='dash')))\n",
    "fig_qoP.update_layout(\n",
    "    legend_title_text='Tipo de Producción',\n",
    "    xaxis_title={'text': 'Fecha', 'font': {'size': 16, 'family': 'Arial'}},\n",
    "    yaxis_title={'text': 'Producción de Aceite (bbl/d)', 'font': {'size': 16, 'family': 'Arial'}}\n",
    ")\n",
    "fig_qoP.show()"
   ]
  },
  {
   "cell_type": "markdown",
   "metadata": {},
   "source": [
    "<a name=\"8\"></a>\n",
    "## 8 - Curva de Declinación Armónica"
   ]
  },
  {
   "cell_type": "code",
   "execution_count": 609,
   "metadata": {},
   "outputs": [
    {
     "name": "stdout",
     "output_type": "stream",
     "text": [
      "qi : 251.7336988749985, Di : 0.6666259217504242\n"
     ]
    }
   ],
   "source": [
    "popt_exp,pcov_exp=curve_fit(func_arm,X,yo, bounds=([0,0],[np.inf,np.inf]))\n",
    "\n",
    "df['qo_pred_arm']=func_arm(X,popt_exp[0],popt_exp[1])\n",
    "df_pred['qo_pred_arm']=func_arm(df_pred['Fecha_norm'],popt_exp[0],popt_exp[1])\n",
    "\n",
    "print(f'qi : {popt_exp[0]}, Di : {popt_exp[1]}')"
   ]
  },
  {
   "cell_type": "code",
   "execution_count": 613,
   "metadata": {},
   "outputs": [
    {
     "data": {
      "application/vnd.plotly.v1+json": {
       "config": {
        "plotlyServerURL": "https://plot.ly"
       },
       "data": [
        {
         "hovertemplate": "Fecha=%{x}<br>qoP [bbl/DC]=%{y}<extra></extra>",
         "legendgroup": "",
         "line": {
          "color": "green",
          "dash": "solid"
         },
         "marker": {
          "symbol": "circle"
         },
         "mode": "markers+lines",
         "name": "",
         "orientation": "v",
         "showlegend": false,
         "type": "scatter",
         "x": [
          "2013-05-01T00:00:00",
          "2013-06-01T00:00:00",
          "2013-07-01T00:00:00",
          "2013-08-01T00:00:00",
          "2013-09-01T00:00:00",
          "2013-10-01T00:00:00",
          "2013-11-01T00:00:00",
          "2013-12-01T00:00:00",
          "2014-01-01T00:00:00",
          "2014-02-01T00:00:00",
          "2014-03-01T00:00:00",
          "2014-04-01T00:00:00",
          "2014-05-01T00:00:00",
          "2014-06-01T00:00:00",
          "2014-07-01T00:00:00",
          "2014-08-01T00:00:00",
          "2014-09-01T00:00:00",
          "2014-10-01T00:00:00",
          "2014-11-01T00:00:00",
          "2014-12-01T00:00:00",
          "2015-01-01T00:00:00",
          "2015-02-01T00:00:00",
          "2015-03-01T00:00:00",
          "2015-04-01T00:00:00",
          "2015-05-01T00:00:00",
          "2015-06-01T00:00:00",
          "2015-07-01T00:00:00",
          "2015-08-01T00:00:00",
          "2015-09-01T00:00:00",
          "2015-10-01T00:00:00",
          "2015-11-01T00:00:00",
          "2015-12-01T00:00:00",
          "2016-01-01T00:00:00",
          "2016-02-01T00:00:00",
          "2016-03-01T00:00:00",
          "2016-04-01T00:00:00",
          "2016-05-01T00:00:00",
          "2016-06-01T00:00:00",
          "2016-07-01T00:00:00",
          "2016-08-01T00:00:00",
          "2016-09-01T00:00:00",
          "2016-10-01T00:00:00",
          "2016-11-01T00:00:00",
          "2016-12-01T00:00:00",
          "2017-01-01T00:00:00",
          "2017-02-01T00:00:00",
          "2017-03-01T00:00:00",
          "2017-04-01T00:00:00",
          "2017-05-01T00:00:00",
          "2017-06-01T00:00:00",
          "2017-07-01T00:00:00",
          "2017-08-01T00:00:00",
          "2017-09-01T00:00:00",
          "2017-10-01T00:00:00",
          "2017-11-01T00:00:00",
          "2017-12-01T00:00:00",
          "2018-01-01T00:00:00",
          "2018-02-01T00:00:00",
          "2018-03-01T00:00:00",
          "2018-04-01T00:00:00",
          "2018-05-01T00:00:00",
          "2018-06-01T00:00:00",
          "2018-07-01T00:00:00",
          "2018-08-01T00:00:00",
          "2018-09-01T00:00:00",
          "2018-10-01T00:00:00",
          "2018-11-01T00:00:00",
          "2018-12-01T00:00:00",
          "2019-01-01T00:00:00",
          "2019-02-01T00:00:00",
          "2019-03-01T00:00:00",
          "2019-04-01T00:00:00",
          "2019-05-01T00:00:00",
          "2019-06-01T00:00:00",
          "2019-07-01T00:00:00",
          "2019-08-01T00:00:00",
          "2019-09-01T00:00:00",
          "2019-10-01T00:00:00",
          "2019-11-01T00:00:00",
          "2019-12-01T00:00:00",
          "2020-01-01T00:00:00",
          "2020-02-01T00:00:00",
          "2020-03-01T00:00:00",
          "2020-04-01T00:00:00",
          "2020-05-01T00:00:00",
          "2020-06-01T00:00:00",
          "2020-07-01T00:00:00",
          "2020-08-01T00:00:00",
          "2020-09-01T00:00:00",
          "2020-10-01T00:00:00",
          "2020-11-01T00:00:00",
          "2020-12-01T00:00:00",
          "2021-01-01T00:00:00",
          "2021-02-01T00:00:00",
          "2021-03-01T00:00:00",
          "2021-04-01T00:00:00",
          "2021-05-01T00:00:00",
          "2021-06-01T00:00:00",
          "2021-07-01T00:00:00",
          "2021-08-01T00:00:00",
          "2021-09-01T00:00:00",
          "2021-10-01T00:00:00",
          "2021-11-01T00:00:00",
          "2021-12-01T00:00:00",
          "2022-01-01T00:00:00",
          "2022-02-01T00:00:00",
          "2022-03-01T00:00:00",
          "2022-04-01T00:00:00",
          "2022-05-01T00:00:00",
          "2022-06-01T00:00:00",
          "2022-07-01T00:00:00",
          "2022-08-01T00:00:00",
          "2022-09-01T00:00:00",
          "2022-10-01T00:00:00",
          "2022-11-01T00:00:00",
          "2022-12-01T00:00:00",
          "2023-01-01T00:00:00",
          "2023-02-01T00:00:00",
          "2023-03-01T00:00:00",
          "2023-04-01T00:00:00",
          "2023-05-01T00:00:00",
          "2023-06-01T00:00:00",
          "2023-07-01T00:00:00",
          "2023-08-01T00:00:00",
          "2023-09-01T00:00:00",
          "2023-10-01T00:00:00",
          "2023-11-01T00:00:00",
          "2023-12-01T00:00:00"
         ],
         "xaxis": "x",
         "y": [
          86,
          215,
          283,
          337,
          351,
          366,
          352,
          382,
          412,
          235,
          316,
          504,
          586,
          533,
          576,
          587,
          542,
          543,
          509,
          443,
          420,
          344,
          336,
          365,
          417,
          411,
          414,
          405,
          345,
          336,
          445,
          421,
          411,
          434,
          441,
          451,
          462,
          431,
          403,
          434,
          377,
          342,
          359,
          346,
          338,
          350,
          338,
          338,
          304,
          299,
          332,
          303,
          287,
          312,
          77,
          0,
          0,
          196,
          284,
          112,
          173,
          173,
          157,
          198,
          210,
          243,
          221,
          224,
          256,
          217,
          197,
          136,
          119,
          114,
          235,
          185,
          213,
          208,
          204,
          192,
          221,
          208,
          169,
          139,
          159,
          155,
          147,
          145,
          135,
          127,
          137,
          165,
          169,
          210,
          217,
          190,
          242,
          276,
          176,
          148,
          201,
          178,
          171,
          210,
          186,
          184,
          200,
          179,
          181,
          197,
          176,
          171,
          210,
          201,
          197,
          184,
          200,
          201,
          188,
          161,
          115,
          148,
          164,
          173,
          172,
          129,
          143,
          147
         ],
         "yaxis": "y"
        },
        {
         "line": {
          "color": "red",
          "dash": "dash"
         },
         "mode": "lines",
         "name": "Data Ajuste exp qo",
         "type": "scatter",
         "x": [
          "2017-01-01T00:00:00",
          "2017-02-01T00:00:00",
          "2017-03-01T00:00:00",
          "2017-04-01T00:00:00",
          "2017-05-01T00:00:00",
          "2017-06-01T00:00:00",
          "2017-07-01T00:00:00",
          "2017-08-01T00:00:00",
          "2017-09-01T00:00:00",
          "2017-10-01T00:00:00",
          "2017-11-01T00:00:00",
          "2017-12-01T00:00:00",
          "2018-01-01T00:00:00",
          "2018-02-01T00:00:00",
          "2018-03-01T00:00:00",
          "2018-04-01T00:00:00",
          "2018-05-01T00:00:00",
          "2018-06-01T00:00:00",
          "2018-07-01T00:00:00",
          "2018-08-01T00:00:00",
          "2018-09-01T00:00:00",
          "2018-10-01T00:00:00",
          "2018-11-01T00:00:00",
          "2018-12-01T00:00:00",
          "2019-01-01T00:00:00",
          "2019-02-01T00:00:00",
          "2019-03-01T00:00:00",
          "2019-04-01T00:00:00",
          "2019-05-01T00:00:00",
          "2019-06-01T00:00:00",
          "2019-07-01T00:00:00",
          "2019-08-01T00:00:00",
          "2019-09-01T00:00:00",
          "2019-10-01T00:00:00",
          "2019-11-01T00:00:00",
          "2019-12-01T00:00:00",
          "2020-01-01T00:00:00",
          "2020-02-01T00:00:00",
          "2020-03-01T00:00:00",
          "2020-04-01T00:00:00",
          "2020-05-01T00:00:00",
          "2020-06-01T00:00:00",
          "2020-07-01T00:00:00",
          "2020-08-01T00:00:00",
          "2020-09-01T00:00:00",
          "2020-10-01T00:00:00",
          "2020-11-01T00:00:00",
          "2020-12-01T00:00:00",
          "2021-01-01T00:00:00",
          "2021-02-01T00:00:00",
          "2021-03-01T00:00:00",
          "2021-04-01T00:00:00",
          "2021-05-01T00:00:00",
          "2021-06-01T00:00:00",
          "2021-07-01T00:00:00",
          "2021-08-01T00:00:00",
          "2021-09-01T00:00:00",
          "2021-10-01T00:00:00",
          "2021-11-01T00:00:00",
          "2021-12-01T00:00:00",
          "2022-01-01T00:00:00",
          "2022-02-01T00:00:00",
          "2022-03-01T00:00:00",
          "2022-04-01T00:00:00",
          "2022-05-01T00:00:00",
          "2022-06-01T00:00:00",
          "2022-07-01T00:00:00",
          "2022-08-01T00:00:00",
          "2022-09-01T00:00:00",
          "2022-10-01T00:00:00",
          "2022-11-01T00:00:00",
          "2022-12-01T00:00:00",
          "2023-01-01T00:00:00",
          "2023-02-01T00:00:00",
          "2023-03-01T00:00:00",
          "2023-04-01T00:00:00",
          "2023-05-01T00:00:00",
          "2023-06-01T00:00:00",
          "2023-07-01T00:00:00",
          "2023-08-01T00:00:00",
          "2023-09-01T00:00:00",
          "2023-10-01T00:00:00",
          "2023-11-01T00:00:00",
          "2023-12-01T00:00:00"
         ],
         "y": [
          240.9358344965516,
          239.58203532823356,
          238.36578845309327,
          237.02643016777398,
          235.7374429355278,
          234.41285311328573,
          233.1380789266054,
          231.82809472266325,
          230.52547121511137,
          229.2718372262988,
          227.9835771249972,
          226.74376635845388,
          225.46971128500508,
          224.2028150250263,
          223.06464131847832,
          221.8112589541275,
          220.6050142304513,
          219.36545231383295,
          218.17250827366982,
          216.94661441330683,
          215.72760875241855,
          214.5544478811687,
          213.3488836125434,
          212.18865862498737,
          210.99638753682288,
          209.81081572447286,
          208.7457035233601,
          207.57277812432017,
          206.44396451236977,
          205.28397240058982,
          204.1676056763311,
          203.02040424263961,
          201.87964884197623,
          200.7817953678945,
          199.65361853131398,
          198.56787056228924,
          197.45213359197257,
          196.34266585838287,
          195.3104210643081,
          194.21298744198293,
          193.15682648570012,
          192.07149373892253,
          191.0269785642483,
          189.95361326246257,
          188.88627911438505,
          187.85908564083968,
          186.80352047581638,
          185.78765337330515,
          184.7437274203804,
          183.70566720382402,
          182.77307873417473,
          181.74609143485023,
          180.75772743170737,
          179.7420642300278,
          178.7645984439246,
          177.7601344744873,
          176.7613145076965,
          175.80005851023125,
          174.8122520533847,
          173.86159536594863,
          172.88468097834993,
          171.9132557944935,
          171.04053192824537,
          170.07946887028652,
          169.15454980667457,
          168.20408393129767,
          167.28936350772855,
          166.34937796486213,
          165.41467412552421,
          164.51512295385083,
          163.59072564659246,
          162.70109339535324,
          161.78688897498424,
          160.8778213960715,
          160.06111931202634,
          159.1617486947105,
          158.2962019209384,
          157.4067482331702,
          156.55074542960804,
          155.67109932214947,
          154.7963958757574,
          153.95458858135024,
          153.08953007141653,
          152.257004983333
         ]
        },
        {
         "line": {
          "color": "blue",
          "dash": "dash"
         },
         "mode": "lines",
         "name": "Data Ajuste qo",
         "type": "scatter",
         "x": [
          "2017-01-01T00:00:00",
          "2017-02-01T00:00:00",
          "2017-03-01T00:00:00",
          "2017-04-01T00:00:00",
          "2017-05-01T00:00:00",
          "2017-06-01T00:00:00",
          "2017-07-01T00:00:00",
          "2017-08-01T00:00:00",
          "2017-09-01T00:00:00",
          "2017-10-01T00:00:00",
          "2017-11-01T00:00:00",
          "2017-12-01T00:00:00",
          "2018-01-01T00:00:00",
          "2018-02-01T00:00:00",
          "2018-03-01T00:00:00",
          "2018-04-01T00:00:00",
          "2018-05-01T00:00:00",
          "2018-06-01T00:00:00",
          "2018-07-01T00:00:00",
          "2018-08-01T00:00:00",
          "2018-09-01T00:00:00",
          "2018-10-01T00:00:00",
          "2018-11-01T00:00:00",
          "2018-12-01T00:00:00",
          "2019-01-01T00:00:00",
          "2019-02-01T00:00:00",
          "2019-03-01T00:00:00",
          "2019-04-01T00:00:00",
          "2019-05-01T00:00:00",
          "2019-06-01T00:00:00",
          "2019-07-01T00:00:00",
          "2019-08-01T00:00:00",
          "2019-09-01T00:00:00",
          "2019-10-01T00:00:00",
          "2019-11-01T00:00:00",
          "2019-12-01T00:00:00",
          "2020-01-01T00:00:00",
          "2020-02-01T00:00:00",
          "2020-03-01T00:00:00",
          "2020-04-01T00:00:00",
          "2020-05-01T00:00:00",
          "2020-06-01T00:00:00",
          "2020-07-01T00:00:00",
          "2020-08-01T00:00:00",
          "2020-09-01T00:00:00",
          "2020-10-01T00:00:00",
          "2020-11-01T00:00:00",
          "2020-12-01T00:00:00",
          "2021-01-01T00:00:00",
          "2021-02-01T00:00:00",
          "2021-03-01T00:00:00",
          "2021-04-01T00:00:00",
          "2021-05-01T00:00:00",
          "2021-06-01T00:00:00",
          "2021-07-01T00:00:00",
          "2021-08-01T00:00:00",
          "2021-09-01T00:00:00",
          "2021-10-01T00:00:00",
          "2021-11-01T00:00:00",
          "2021-12-01T00:00:00",
          "2022-01-01T00:00:00",
          "2022-02-01T00:00:00",
          "2022-03-01T00:00:00",
          "2022-04-01T00:00:00",
          "2022-05-01T00:00:00",
          "2022-06-01T00:00:00",
          "2022-07-01T00:00:00",
          "2022-08-01T00:00:00",
          "2022-09-01T00:00:00",
          "2022-10-01T00:00:00",
          "2022-11-01T00:00:00",
          "2022-12-01T00:00:00",
          "2023-01-01T00:00:00",
          "2023-02-01T00:00:00",
          "2023-03-01T00:00:00",
          "2023-04-01T00:00:00",
          "2023-05-01T00:00:00",
          "2023-06-01T00:00:00",
          "2023-07-01T00:00:00",
          "2023-08-01T00:00:00",
          "2023-09-01T00:00:00",
          "2023-10-01T00:00:00",
          "2023-11-01T00:00:00",
          "2023-12-01T00:00:00"
         ],
         "y": [
          367.8428605738425,
          313.67935099923574,
          291.156141225534,
          275.1966030071668,
          264.1223302612356,
          255.2756187850702,
          248.34308268040257,
          242.34913780178488,
          237.2266236214114,
          232.90151563192975,
          228.94547997207076,
          225.51779503857813,
          222.31580081610423,
          219.40221727691767,
          216.98106520319868,
          214.5006956442757,
          212.27443494418208,
          210.13096678125484,
          208.1904935368016,
          206.30788546032667,
          204.5363515595361,
          202.91680896147588,
          201.3316385433808,
          199.87513760524877,
          198.4429708008385,
          197.0784627237627,
          195.8994042849496,
          194.648487299633,
          193.48832852913486,
          192.33768039101386,
          191.26743511829383,
          190.20310634149814,
          189.17817978001273,
          188.22135967491823,
          187.26654297249254,
          186.37331477851635,
          185.48020526763304,
          184.61569401060044,
          183.83138155494865,
          183.0176464551309,
          182.2531391485686,
          181.4856323713162,
          180.76352730600172,
          180.0376040606874,
          179.3312470214222,
          178.66540435319953,
          177.99482004140683,
          177.36198395702516,
          176.72395205248498,
          176.10136204963726,
          175.55172964043805,
          174.9566886887905,
          174.39378389326887,
          173.82493857419087,
          173.28635710038287,
          172.74164635614684,
          172.20848544632966,
          171.70309990897496,
          171.19138691088256,
          170.7059883685346,
          170.21417642668914,
          169.73193671826388,
          169.30430987009615,
          168.8393638193306,
          168.39763838638942,
          167.94940020669372,
          167.52330815794502,
          167.09069761060664,
          166.66564721602617,
          166.26127893401457,
          165.8504105558905,
          165.4593445718755,
          165.06180502891507,
          164.67073589429722,
          164.32291322492858,
          163.9436334599944,
          163.58223989382964,
          163.21447417138896,
          162.86391117667165,
          162.5070276846668,
          162.1554484062126,
          161.82012469576424,
          161.47856656460965,
          161.15268566178224
         ]
        },
        {
         "line": {
          "color": "purple",
          "dash": "dash"
         },
         "mode": "lines",
         "name": "Data Ajuste arm qwP",
         "type": "scatter",
         "x": [
          "2017-01-01T00:00:00",
          "2017-02-01T00:00:00",
          "2017-03-01T00:00:00",
          "2017-04-01T00:00:00",
          "2017-05-01T00:00:00",
          "2017-06-01T00:00:00",
          "2017-07-01T00:00:00",
          "2017-08-01T00:00:00",
          "2017-09-01T00:00:00",
          "2017-10-01T00:00:00",
          "2017-11-01T00:00:00",
          "2017-12-01T00:00:00",
          "2018-01-01T00:00:00",
          "2018-02-01T00:00:00",
          "2018-03-01T00:00:00",
          "2018-04-01T00:00:00",
          "2018-05-01T00:00:00",
          "2018-06-01T00:00:00",
          "2018-07-01T00:00:00",
          "2018-08-01T00:00:00",
          "2018-09-01T00:00:00",
          "2018-10-01T00:00:00",
          "2018-11-01T00:00:00",
          "2018-12-01T00:00:00",
          "2019-01-01T00:00:00",
          "2019-02-01T00:00:00",
          "2019-03-01T00:00:00",
          "2019-04-01T00:00:00",
          "2019-05-01T00:00:00",
          "2019-06-01T00:00:00",
          "2019-07-01T00:00:00",
          "2019-08-01T00:00:00",
          "2019-09-01T00:00:00",
          "2019-10-01T00:00:00",
          "2019-11-01T00:00:00",
          "2019-12-01T00:00:00",
          "2020-01-01T00:00:00",
          "2020-02-01T00:00:00",
          "2020-03-01T00:00:00",
          "2020-04-01T00:00:00",
          "2020-05-01T00:00:00",
          "2020-06-01T00:00:00",
          "2020-07-01T00:00:00",
          "2020-08-01T00:00:00",
          "2020-09-01T00:00:00",
          "2020-10-01T00:00:00",
          "2020-11-01T00:00:00",
          "2020-12-01T00:00:00",
          "2021-01-01T00:00:00",
          "2021-02-01T00:00:00",
          "2021-03-01T00:00:00",
          "2021-04-01T00:00:00",
          "2021-05-01T00:00:00",
          "2021-06-01T00:00:00",
          "2021-07-01T00:00:00",
          "2021-08-01T00:00:00",
          "2021-09-01T00:00:00",
          "2021-10-01T00:00:00",
          "2021-11-01T00:00:00",
          "2021-12-01T00:00:00",
          "2022-01-01T00:00:00",
          "2022-02-01T00:00:00",
          "2022-03-01T00:00:00",
          "2022-04-01T00:00:00",
          "2022-05-01T00:00:00",
          "2022-06-01T00:00:00",
          "2022-07-01T00:00:00",
          "2022-08-01T00:00:00",
          "2022-09-01T00:00:00",
          "2022-10-01T00:00:00",
          "2022-11-01T00:00:00",
          "2022-12-01T00:00:00",
          "2023-01-01T00:00:00",
          "2023-02-01T00:00:00",
          "2023-03-01T00:00:00",
          "2023-04-01T00:00:00",
          "2023-05-01T00:00:00",
          "2023-06-01T00:00:00",
          "2023-07-01T00:00:00",
          "2023-08-01T00:00:00",
          "2023-09-01T00:00:00",
          "2023-10-01T00:00:00",
          "2023-11-01T00:00:00",
          "2023-12-01T00:00:00"
         ],
         "y": [
          251.7336988749985,
          249.69015518178668,
          247.87268381629553,
          245.8910991692309,
          244.0033714729413,
          242.0829296954393,
          240.25300295491394,
          238.39091718773625,
          236.5574736949715,
          234.80982694278194,
          233.03084788660715,
          231.3347341433801,
          229.60782818642662,
          227.90651377840393,
          226.39136914215612,
          224.73721486685096,
          223.15927427966434,
          221.551846514073,
          220.0181669584177,
          218.45551340649746,
          216.91490044561482,
          215.444534017167,
          213.94595135401326,
          212.5154270300024,
          211.0571778526275,
          209.61880486471395,
          208.33637731984385,
          206.93472713639764,
          205.5961326491622,
          204.2309909361903,
          202.92703693647547,
          201.5969956539863,
          200.2842757767434,
          199.03007727322307,
          197.75046798757361,
          196.52770575428158,
          195.27996995657725,
          194.04797771741238,
          192.9094591962007,
          191.70710373338008,
          190.5577188960104,
          189.38441118531335,
          188.26262766335924,
          187.1173276290278,
          185.98587825220676,
          184.90387963512194,
          183.79896118032806,
          182.74218605891264,
          181.6628761776714,
          180.59624065547385,
          179.6435370867336,
          178.60041482939002,
          177.6024113999627,
          176.58279130268974,
          175.6071475267888,
          174.61024416739033,
          173.6245955476583,
          172.68127951173466,
          171.71722791505084,
          170.79446871716388,
          169.8513120069087,
          168.91851464076944,
          168.08475079823572,
          167.1712037145027,
          166.29653141518781,
          165.40226730639984,
          164.54596050039055,
          163.6703752148614,
          162.80405897090628,
          161.97437584839923,
          161.12587407799467,
          160.3131648584496,
          159.481933666055,
          158.6592779539357,
          157.9234950219688,
          157.11679788126472,
          156.34393159925582,
          155.55325065628375,
          154.79565310149653,
          154.02051606815948,
          153.25310333087992,
          152.51769217275174,
          151.7651455359589,
          151.04391188792238
         ]
        },
        {
         "line": {
          "color": "pink",
          "dash": "dash"
         },
         "mode": "lines",
         "name": "Predicción exp qo",
         "type": "scatter",
         "x": [
          "2024-01-01T00:00:00",
          "2024-02-01T00:00:00",
          "2024-03-01T00:00:00",
          "2024-04-01T00:00:00",
          "2024-05-01T00:00:00",
          "2024-06-01T00:00:00",
          "2024-07-01T00:00:00",
          "2024-08-01T00:00:00",
          "2024-09-01T00:00:00",
          "2024-10-01T00:00:00",
          "2024-11-01T00:00:00",
          "2024-12-01T00:00:00",
          "2025-01-01T00:00:00",
          "2025-02-01T00:00:00",
          "2025-03-01T00:00:00",
          "2025-04-01T00:00:00",
          "2025-05-01T00:00:00",
          "2025-06-01T00:00:00",
          "2025-07-01T00:00:00",
          "2025-08-01T00:00:00",
          "2025-09-01T00:00:00",
          "2025-10-01T00:00:00",
          "2025-11-01T00:00:00",
          "2025-12-01T00:00:00",
          "2026-01-01T00:00:00",
          "2026-02-01T00:00:00",
          "2026-03-01T00:00:00",
          "2026-04-01T00:00:00",
          "2026-05-01T00:00:00",
          "2026-06-01T00:00:00",
          "2026-07-01T00:00:00",
          "2026-08-01T00:00:00",
          "2026-09-01T00:00:00",
          "2026-10-01T00:00:00",
          "2026-11-01T00:00:00",
          "2026-12-01T00:00:00",
          "2027-01-01T00:00:00",
          "2027-02-01T00:00:00",
          "2027-03-01T00:00:00",
          "2027-04-01T00:00:00",
          "2027-05-01T00:00:00",
          "2027-06-01T00:00:00",
          "2027-07-01T00:00:00",
          "2027-08-01T00:00:00",
          "2027-09-01T00:00:00",
          "2027-10-01T00:00:00",
          "2027-11-01T00:00:00",
          "2027-12-01T00:00:00",
          "2028-01-01T00:00:00",
          "2028-02-01T00:00:00",
          "2028-03-01T00:00:00",
          "2028-04-01T00:00:00",
          "2028-05-01T00:00:00",
          "2028-06-01T00:00:00",
          "2028-07-01T00:00:00",
          "2028-08-01T00:00:00",
          "2028-09-01T00:00:00",
          "2028-10-01T00:00:00",
          "2028-11-01T00:00:00",
          "2028-12-01T00:00:00",
          "2029-01-01T00:00:00",
          "2029-02-01T00:00:00",
          "2029-03-01T00:00:00",
          "2029-04-01T00:00:00",
          "2029-05-01T00:00:00",
          "2029-06-01T00:00:00",
          "2029-07-01T00:00:00",
          "2029-08-01T00:00:00",
          "2029-09-01T00:00:00",
          "2029-10-01T00:00:00",
          "2029-11-01T00:00:00",
          "2029-12-01T00:00:00"
         ],
         "y": [
          151.4014850597494,
          150.55077223414028,
          149.75927207698788,
          148.91778671467395,
          148.10794822706472,
          147.27574152128324,
          146.4748327352624,
          145.65180237470656,
          144.83339655586718,
          144.0457696282199,
          143.23638797883177,
          142.45744583652316,
          141.65698885137945,
          140.86102956996262,
          140.14594345422444,
          139.35847461594622,
          138.6006211801122,
          137.82183538399318,
          137.072338435447,
          136.30213993774234,
          135.53626912374216,
          134.79920144616733,
          134.04177552324853,
          133.31283513835234,
          132.5637609887409,
          131.8188958268165,
          131.1497124303479,
          130.41279269408554,
          129.70358729203284,
          128.97479321716753,
          128.27340788380351,
          127.55264987255424,
          126.83594174288041,
          126.1461878222668,
          125.43738249026991,
          124.75523415616783,
          124.05424448148507,
          123.35719361167034,
          122.73096635280795,
          122.04135087687644,
          121.37767070004648,
          120.69565928406637,
          120.03929719104866,
          119.36480598868228,
          118.69410469839232,
          118.04862737592319,
          117.38532158790477,
          116.7469616350778,
          116.09096980266531,
          115.43866393585327,
          114.83176090048,
          114.18653042769292,
          113.56556600734407,
          112.92745018231182,
          112.31333283956327,
          111.68225321246278,
          111.05471957127219,
          110.45078643391106,
          109.8301723059792,
          109.23289845040844,
          108.61912753756714,
          108.0088053543586,
          107.4604947440886,
          106.85668282580379,
          106.27557927652532,
          105.67842530340333,
          105.10372930496891,
          104.51315986303904,
          103.92590878352851,
          103.36074324723214,
          102.77996750444326,
          102.22103377814632
         ]
        },
        {
         "line": {
          "color": "lightblue",
          "dash": "dash"
         },
         "mode": "lines",
         "name": "Predicción hyp qo",
         "type": "scatter",
         "x": [
          "2024-01-01T00:00:00",
          "2024-02-01T00:00:00",
          "2024-03-01T00:00:00",
          "2024-04-01T00:00:00",
          "2024-05-01T00:00:00",
          "2024-06-01T00:00:00",
          "2024-07-01T00:00:00",
          "2024-08-01T00:00:00",
          "2024-09-01T00:00:00",
          "2024-10-01T00:00:00",
          "2024-11-01T00:00:00",
          "2024-12-01T00:00:00",
          "2025-01-01T00:00:00",
          "2025-02-01T00:00:00",
          "2025-03-01T00:00:00",
          "2025-04-01T00:00:00",
          "2025-05-01T00:00:00",
          "2025-06-01T00:00:00",
          "2025-07-01T00:00:00",
          "2025-08-01T00:00:00",
          "2025-09-01T00:00:00",
          "2025-10-01T00:00:00",
          "2025-11-01T00:00:00",
          "2025-12-01T00:00:00",
          "2026-01-01T00:00:00",
          "2026-02-01T00:00:00",
          "2026-03-01T00:00:00",
          "2026-04-01T00:00:00",
          "2026-05-01T00:00:00",
          "2026-06-01T00:00:00",
          "2026-07-01T00:00:00",
          "2026-08-01T00:00:00",
          "2026-09-01T00:00:00",
          "2026-10-01T00:00:00",
          "2026-11-01T00:00:00",
          "2026-12-01T00:00:00",
          "2027-01-01T00:00:00",
          "2027-02-01T00:00:00",
          "2027-03-01T00:00:00",
          "2027-04-01T00:00:00",
          "2027-05-01T00:00:00",
          "2027-06-01T00:00:00",
          "2027-07-01T00:00:00",
          "2027-08-01T00:00:00",
          "2027-09-01T00:00:00",
          "2027-10-01T00:00:00",
          "2027-11-01T00:00:00",
          "2027-12-01T00:00:00",
          "2028-01-01T00:00:00",
          "2028-02-01T00:00:00",
          "2028-03-01T00:00:00",
          "2028-04-01T00:00:00",
          "2028-05-01T00:00:00",
          "2028-06-01T00:00:00",
          "2028-07-01T00:00:00",
          "2028-08-01T00:00:00",
          "2028-09-01T00:00:00",
          "2028-10-01T00:00:00",
          "2028-11-01T00:00:00",
          "2028-12-01T00:00:00",
          "2029-01-01T00:00:00",
          "2029-02-01T00:00:00",
          "2029-03-01T00:00:00",
          "2029-04-01T00:00:00",
          "2029-05-01T00:00:00",
          "2029-06-01T00:00:00",
          "2029-07-01T00:00:00",
          "2029-08-01T00:00:00",
          "2029-09-01T00:00:00",
          "2029-10-01T00:00:00",
          "2029-11-01T00:00:00",
          "2029-12-01T00:00:00"
         ],
         "y": [
          160.82063157789605,
          160.4932215968504,
          160.19103367545657,
          159.8722780499166,
          159.56790682356078,
          159.25752467947123,
          158.9610603179792,
          158.6586526975455,
          158.36015361371457,
          158.0749176820123,
          157.78384203182677,
          157.50562510611513,
          157.2216376559118,
          156.94113094839733,
          156.69069664668174,
          156.41660038901617,
          156.1544509962313,
          155.8867025118889,
          155.63056473042136,
          155.36889669267956,
          155.11022149009358,
          154.86268100018603,
          154.60971316835753,
          154.3675833671796,
          154.1200937040145,
          153.87530446057187,
          153.6564805048757,
          153.416682512654,
          153.18704604989566,
          152.95221358745724,
          152.7272905368147,
          152.4972362423255,
          152.26954167543818,
          152.05139695004587,
          151.82821694123493,
          151.61436109387026,
          151.39553241531922,
          151.17885525463254,
          150.9849637482416,
          150.77227478527703,
          150.5683907787632,
          150.35968437135716,
          150.15958774912085,
          149.95472778494275,
          149.75177256892243,
          149.55714717310497,
          149.35784563193823,
          149.1666972108131,
          148.97092921707207,
          148.77691275909052,
          148.59697361161662,
          148.40626590335395,
          148.22329926469274,
          148.03584974798753,
          147.85598639415815,
          147.6716933263707,
          147.4889668413495,
          147.31360325781355,
          147.13388834103702,
          146.96139476590645,
          146.7846006514881,
          146.60925736676637,
          146.45211155910013,
          146.27946935724378,
          146.11371850013376,
          145.94378890559085,
          145.78062501029677,
          145.61333003161025,
          145.44734511014792,
          145.28794408707716,
          145.1244822132626,
          144.96748852531283
         ]
        },
        {
         "line": {
          "color": "#D8BFD8",
          "dash": "dash"
         },
         "mode": "lines",
         "name": "Predicción hyp qo",
         "type": "scatter",
         "x": [
          "2024-01-01T00:00:00",
          "2024-02-01T00:00:00",
          "2024-03-01T00:00:00",
          "2024-04-01T00:00:00",
          "2024-05-01T00:00:00",
          "2024-06-01T00:00:00",
          "2024-07-01T00:00:00",
          "2024-08-01T00:00:00",
          "2024-09-01T00:00:00",
          "2024-10-01T00:00:00",
          "2024-11-01T00:00:00",
          "2024-12-01T00:00:00",
          "2025-01-01T00:00:00",
          "2025-02-01T00:00:00",
          "2025-03-01T00:00:00",
          "2025-04-01T00:00:00",
          "2025-05-01T00:00:00",
          "2025-06-01T00:00:00",
          "2025-07-01T00:00:00",
          "2025-08-01T00:00:00",
          "2025-09-01T00:00:00",
          "2025-10-01T00:00:00",
          "2025-11-01T00:00:00",
          "2025-12-01T00:00:00",
          "2026-01-01T00:00:00",
          "2026-02-01T00:00:00",
          "2026-03-01T00:00:00",
          "2026-04-01T00:00:00",
          "2026-05-01T00:00:00",
          "2026-06-01T00:00:00",
          "2026-07-01T00:00:00",
          "2026-08-01T00:00:00",
          "2026-09-01T00:00:00",
          "2026-10-01T00:00:00",
          "2026-11-01T00:00:00",
          "2026-12-01T00:00:00",
          "2027-01-01T00:00:00",
          "2027-02-01T00:00:00",
          "2027-03-01T00:00:00",
          "2027-04-01T00:00:00",
          "2027-05-01T00:00:00",
          "2027-06-01T00:00:00",
          "2027-07-01T00:00:00",
          "2027-08-01T00:00:00",
          "2027-09-01T00:00:00",
          "2027-10-01T00:00:00",
          "2027-11-01T00:00:00",
          "2027-12-01T00:00:00",
          "2028-01-01T00:00:00",
          "2028-02-01T00:00:00",
          "2028-03-01T00:00:00",
          "2028-04-01T00:00:00",
          "2028-05-01T00:00:00",
          "2028-06-01T00:00:00",
          "2028-07-01T00:00:00",
          "2028-08-01T00:00:00",
          "2028-09-01T00:00:00",
          "2028-10-01T00:00:00",
          "2028-11-01T00:00:00",
          "2028-12-01T00:00:00",
          "2029-01-01T00:00:00",
          "2029-02-01T00:00:00",
          "2029-03-01T00:00:00",
          "2029-04-01T00:00:00",
          "2029-05-01T00:00:00",
          "2029-06-01T00:00:00",
          "2029-07-01T00:00:00",
          "2029-08-01T00:00:00",
          "2029-09-01T00:00:00",
          "2029-10-01T00:00:00",
          "2029-11-01T00:00:00",
          "2029-12-01T00:00:00"
         ],
         "y": [
          150.30580352514968,
          149.57487393038323,
          148.8975077187374,
          148.18017821679766,
          147.49253862200277,
          146.78865043020159,
          146.113835734646,
          145.4230145670561,
          144.73869501727125,
          144.08255463850068,
          143.41076345602775,
          142.766580813541,
          142.10697707116614,
          141.45344024186303,
          140.86829421723644,
          140.2260751644461,
          139.61012382620171,
          138.97929986216616,
          138.37422926869363,
          137.7544997819794,
          137.1402966453302,
          136.55109900804462,
          135.94755664667153,
          135.36854157467712,
          134.77538481797575,
          134.1874035620564,
          133.6607160491141,
          133.08239958328082,
          132.52748353261387,
          131.95891106466712,
          131.4133055204137,
          130.85423284520107,
          130.2998969529518,
          129.76789644223484,
          129.22270723298053,
          128.69944880217105,
          128.1631817453706,
          127.6313651975357,
          127.15479416317653,
          126.63129626407458,
          126.12877327237405,
          125.61367245852142,
          125.11917791090015,
          124.61227375238805,
          124.10946033397838,
          123.62671517270357,
          123.13180801170006,
          122.65662382992615,
          122.16943790423697,
          121.68610682316886,
          121.23740783076526,
          120.7614089135571,
          120.30431012473936,
          119.83559585234813,
          119.38546579886106,
          118.92387021642946,
          118.46583034040012,
          118.0259128964444,
          117.57475082017945,
          117.14141434879178,
          116.69697631450988,
          116.25589795594462,
          115.8603607328552,
          115.42557221753329,
          115.00790495040324,
          114.57947908072765,
          114.16790162831711,
          113.74569975389592,
          113.3266090455738,
          112.92396736127839,
          112.51089905465926,
          112.11402268376514
         ]
        }
       ],
       "layout": {
        "legend": {
         "title": {
          "text": "Tipo de Producción"
         },
         "tracegroupgap": 0
        },
        "template": {
         "data": {
          "bar": [
           {
            "error_x": {
             "color": "#2a3f5f"
            },
            "error_y": {
             "color": "#2a3f5f"
            },
            "marker": {
             "line": {
              "color": "#E5ECF6",
              "width": 0.5
             },
             "pattern": {
              "fillmode": "overlay",
              "size": 10,
              "solidity": 0.2
             }
            },
            "type": "bar"
           }
          ],
          "barpolar": [
           {
            "marker": {
             "line": {
              "color": "#E5ECF6",
              "width": 0.5
             },
             "pattern": {
              "fillmode": "overlay",
              "size": 10,
              "solidity": 0.2
             }
            },
            "type": "barpolar"
           }
          ],
          "carpet": [
           {
            "aaxis": {
             "endlinecolor": "#2a3f5f",
             "gridcolor": "white",
             "linecolor": "white",
             "minorgridcolor": "white",
             "startlinecolor": "#2a3f5f"
            },
            "baxis": {
             "endlinecolor": "#2a3f5f",
             "gridcolor": "white",
             "linecolor": "white",
             "minorgridcolor": "white",
             "startlinecolor": "#2a3f5f"
            },
            "type": "carpet"
           }
          ],
          "choropleth": [
           {
            "colorbar": {
             "outlinewidth": 0,
             "ticks": ""
            },
            "type": "choropleth"
           }
          ],
          "contour": [
           {
            "colorbar": {
             "outlinewidth": 0,
             "ticks": ""
            },
            "colorscale": [
             [
              0,
              "#0d0887"
             ],
             [
              0.1111111111111111,
              "#46039f"
             ],
             [
              0.2222222222222222,
              "#7201a8"
             ],
             [
              0.3333333333333333,
              "#9c179e"
             ],
             [
              0.4444444444444444,
              "#bd3786"
             ],
             [
              0.5555555555555556,
              "#d8576b"
             ],
             [
              0.6666666666666666,
              "#ed7953"
             ],
             [
              0.7777777777777778,
              "#fb9f3a"
             ],
             [
              0.8888888888888888,
              "#fdca26"
             ],
             [
              1,
              "#f0f921"
             ]
            ],
            "type": "contour"
           }
          ],
          "contourcarpet": [
           {
            "colorbar": {
             "outlinewidth": 0,
             "ticks": ""
            },
            "type": "contourcarpet"
           }
          ],
          "heatmap": [
           {
            "colorbar": {
             "outlinewidth": 0,
             "ticks": ""
            },
            "colorscale": [
             [
              0,
              "#0d0887"
             ],
             [
              0.1111111111111111,
              "#46039f"
             ],
             [
              0.2222222222222222,
              "#7201a8"
             ],
             [
              0.3333333333333333,
              "#9c179e"
             ],
             [
              0.4444444444444444,
              "#bd3786"
             ],
             [
              0.5555555555555556,
              "#d8576b"
             ],
             [
              0.6666666666666666,
              "#ed7953"
             ],
             [
              0.7777777777777778,
              "#fb9f3a"
             ],
             [
              0.8888888888888888,
              "#fdca26"
             ],
             [
              1,
              "#f0f921"
             ]
            ],
            "type": "heatmap"
           }
          ],
          "heatmapgl": [
           {
            "colorbar": {
             "outlinewidth": 0,
             "ticks": ""
            },
            "colorscale": [
             [
              0,
              "#0d0887"
             ],
             [
              0.1111111111111111,
              "#46039f"
             ],
             [
              0.2222222222222222,
              "#7201a8"
             ],
             [
              0.3333333333333333,
              "#9c179e"
             ],
             [
              0.4444444444444444,
              "#bd3786"
             ],
             [
              0.5555555555555556,
              "#d8576b"
             ],
             [
              0.6666666666666666,
              "#ed7953"
             ],
             [
              0.7777777777777778,
              "#fb9f3a"
             ],
             [
              0.8888888888888888,
              "#fdca26"
             ],
             [
              1,
              "#f0f921"
             ]
            ],
            "type": "heatmapgl"
           }
          ],
          "histogram": [
           {
            "marker": {
             "pattern": {
              "fillmode": "overlay",
              "size": 10,
              "solidity": 0.2
             }
            },
            "type": "histogram"
           }
          ],
          "histogram2d": [
           {
            "colorbar": {
             "outlinewidth": 0,
             "ticks": ""
            },
            "colorscale": [
             [
              0,
              "#0d0887"
             ],
             [
              0.1111111111111111,
              "#46039f"
             ],
             [
              0.2222222222222222,
              "#7201a8"
             ],
             [
              0.3333333333333333,
              "#9c179e"
             ],
             [
              0.4444444444444444,
              "#bd3786"
             ],
             [
              0.5555555555555556,
              "#d8576b"
             ],
             [
              0.6666666666666666,
              "#ed7953"
             ],
             [
              0.7777777777777778,
              "#fb9f3a"
             ],
             [
              0.8888888888888888,
              "#fdca26"
             ],
             [
              1,
              "#f0f921"
             ]
            ],
            "type": "histogram2d"
           }
          ],
          "histogram2dcontour": [
           {
            "colorbar": {
             "outlinewidth": 0,
             "ticks": ""
            },
            "colorscale": [
             [
              0,
              "#0d0887"
             ],
             [
              0.1111111111111111,
              "#46039f"
             ],
             [
              0.2222222222222222,
              "#7201a8"
             ],
             [
              0.3333333333333333,
              "#9c179e"
             ],
             [
              0.4444444444444444,
              "#bd3786"
             ],
             [
              0.5555555555555556,
              "#d8576b"
             ],
             [
              0.6666666666666666,
              "#ed7953"
             ],
             [
              0.7777777777777778,
              "#fb9f3a"
             ],
             [
              0.8888888888888888,
              "#fdca26"
             ],
             [
              1,
              "#f0f921"
             ]
            ],
            "type": "histogram2dcontour"
           }
          ],
          "mesh3d": [
           {
            "colorbar": {
             "outlinewidth": 0,
             "ticks": ""
            },
            "type": "mesh3d"
           }
          ],
          "parcoords": [
           {
            "line": {
             "colorbar": {
              "outlinewidth": 0,
              "ticks": ""
             }
            },
            "type": "parcoords"
           }
          ],
          "pie": [
           {
            "automargin": true,
            "type": "pie"
           }
          ],
          "scatter": [
           {
            "fillpattern": {
             "fillmode": "overlay",
             "size": 10,
             "solidity": 0.2
            },
            "type": "scatter"
           }
          ],
          "scatter3d": [
           {
            "line": {
             "colorbar": {
              "outlinewidth": 0,
              "ticks": ""
             }
            },
            "marker": {
             "colorbar": {
              "outlinewidth": 0,
              "ticks": ""
             }
            },
            "type": "scatter3d"
           }
          ],
          "scattercarpet": [
           {
            "marker": {
             "colorbar": {
              "outlinewidth": 0,
              "ticks": ""
             }
            },
            "type": "scattercarpet"
           }
          ],
          "scattergeo": [
           {
            "marker": {
             "colorbar": {
              "outlinewidth": 0,
              "ticks": ""
             }
            },
            "type": "scattergeo"
           }
          ],
          "scattergl": [
           {
            "marker": {
             "colorbar": {
              "outlinewidth": 0,
              "ticks": ""
             }
            },
            "type": "scattergl"
           }
          ],
          "scattermapbox": [
           {
            "marker": {
             "colorbar": {
              "outlinewidth": 0,
              "ticks": ""
             }
            },
            "type": "scattermapbox"
           }
          ],
          "scatterpolar": [
           {
            "marker": {
             "colorbar": {
              "outlinewidth": 0,
              "ticks": ""
             }
            },
            "type": "scatterpolar"
           }
          ],
          "scatterpolargl": [
           {
            "marker": {
             "colorbar": {
              "outlinewidth": 0,
              "ticks": ""
             }
            },
            "type": "scatterpolargl"
           }
          ],
          "scatterternary": [
           {
            "marker": {
             "colorbar": {
              "outlinewidth": 0,
              "ticks": ""
             }
            },
            "type": "scatterternary"
           }
          ],
          "surface": [
           {
            "colorbar": {
             "outlinewidth": 0,
             "ticks": ""
            },
            "colorscale": [
             [
              0,
              "#0d0887"
             ],
             [
              0.1111111111111111,
              "#46039f"
             ],
             [
              0.2222222222222222,
              "#7201a8"
             ],
             [
              0.3333333333333333,
              "#9c179e"
             ],
             [
              0.4444444444444444,
              "#bd3786"
             ],
             [
              0.5555555555555556,
              "#d8576b"
             ],
             [
              0.6666666666666666,
              "#ed7953"
             ],
             [
              0.7777777777777778,
              "#fb9f3a"
             ],
             [
              0.8888888888888888,
              "#fdca26"
             ],
             [
              1,
              "#f0f921"
             ]
            ],
            "type": "surface"
           }
          ],
          "table": [
           {
            "cells": {
             "fill": {
              "color": "#EBF0F8"
             },
             "line": {
              "color": "white"
             }
            },
            "header": {
             "fill": {
              "color": "#C8D4E3"
             },
             "line": {
              "color": "white"
             }
            },
            "type": "table"
           }
          ]
         },
         "layout": {
          "annotationdefaults": {
           "arrowcolor": "#2a3f5f",
           "arrowhead": 0,
           "arrowwidth": 1
          },
          "autotypenumbers": "strict",
          "coloraxis": {
           "colorbar": {
            "outlinewidth": 0,
            "ticks": ""
           }
          },
          "colorscale": {
           "diverging": [
            [
             0,
             "#8e0152"
            ],
            [
             0.1,
             "#c51b7d"
            ],
            [
             0.2,
             "#de77ae"
            ],
            [
             0.3,
             "#f1b6da"
            ],
            [
             0.4,
             "#fde0ef"
            ],
            [
             0.5,
             "#f7f7f7"
            ],
            [
             0.6,
             "#e6f5d0"
            ],
            [
             0.7,
             "#b8e186"
            ],
            [
             0.8,
             "#7fbc41"
            ],
            [
             0.9,
             "#4d9221"
            ],
            [
             1,
             "#276419"
            ]
           ],
           "sequential": [
            [
             0,
             "#0d0887"
            ],
            [
             0.1111111111111111,
             "#46039f"
            ],
            [
             0.2222222222222222,
             "#7201a8"
            ],
            [
             0.3333333333333333,
             "#9c179e"
            ],
            [
             0.4444444444444444,
             "#bd3786"
            ],
            [
             0.5555555555555556,
             "#d8576b"
            ],
            [
             0.6666666666666666,
             "#ed7953"
            ],
            [
             0.7777777777777778,
             "#fb9f3a"
            ],
            [
             0.8888888888888888,
             "#fdca26"
            ],
            [
             1,
             "#f0f921"
            ]
           ],
           "sequentialminus": [
            [
             0,
             "#0d0887"
            ],
            [
             0.1111111111111111,
             "#46039f"
            ],
            [
             0.2222222222222222,
             "#7201a8"
            ],
            [
             0.3333333333333333,
             "#9c179e"
            ],
            [
             0.4444444444444444,
             "#bd3786"
            ],
            [
             0.5555555555555556,
             "#d8576b"
            ],
            [
             0.6666666666666666,
             "#ed7953"
            ],
            [
             0.7777777777777778,
             "#fb9f3a"
            ],
            [
             0.8888888888888888,
             "#fdca26"
            ],
            [
             1,
             "#f0f921"
            ]
           ]
          },
          "colorway": [
           "#636efa",
           "#EF553B",
           "#00cc96",
           "#ab63fa",
           "#FFA15A",
           "#19d3f3",
           "#FF6692",
           "#B6E880",
           "#FF97FF",
           "#FECB52"
          ],
          "font": {
           "color": "#2a3f5f"
          },
          "geo": {
           "bgcolor": "white",
           "lakecolor": "white",
           "landcolor": "#E5ECF6",
           "showlakes": true,
           "showland": true,
           "subunitcolor": "white"
          },
          "hoverlabel": {
           "align": "left"
          },
          "hovermode": "closest",
          "mapbox": {
           "style": "light"
          },
          "paper_bgcolor": "white",
          "plot_bgcolor": "#E5ECF6",
          "polar": {
           "angularaxis": {
            "gridcolor": "white",
            "linecolor": "white",
            "ticks": ""
           },
           "bgcolor": "#E5ECF6",
           "radialaxis": {
            "gridcolor": "white",
            "linecolor": "white",
            "ticks": ""
           }
          },
          "scene": {
           "xaxis": {
            "backgroundcolor": "#E5ECF6",
            "gridcolor": "white",
            "gridwidth": 2,
            "linecolor": "white",
            "showbackground": true,
            "ticks": "",
            "zerolinecolor": "white"
           },
           "yaxis": {
            "backgroundcolor": "#E5ECF6",
            "gridcolor": "white",
            "gridwidth": 2,
            "linecolor": "white",
            "showbackground": true,
            "ticks": "",
            "zerolinecolor": "white"
           },
           "zaxis": {
            "backgroundcolor": "#E5ECF6",
            "gridcolor": "white",
            "gridwidth": 2,
            "linecolor": "white",
            "showbackground": true,
            "ticks": "",
            "zerolinecolor": "white"
           }
          },
          "shapedefaults": {
           "line": {
            "color": "#2a3f5f"
           }
          },
          "ternary": {
           "aaxis": {
            "gridcolor": "white",
            "linecolor": "white",
            "ticks": ""
           },
           "baxis": {
            "gridcolor": "white",
            "linecolor": "white",
            "ticks": ""
           },
           "bgcolor": "#E5ECF6",
           "caxis": {
            "gridcolor": "white",
            "linecolor": "white",
            "ticks": ""
           }
          },
          "title": {
           "x": 0.05
          },
          "xaxis": {
           "automargin": true,
           "gridcolor": "white",
           "linecolor": "white",
           "ticks": "",
           "title": {
            "standoff": 15
           },
           "zerolinecolor": "white",
           "zerolinewidth": 2
          },
          "yaxis": {
           "automargin": true,
           "gridcolor": "white",
           "linecolor": "white",
           "ticks": "",
           "title": {
            "standoff": 15
           },
           "zerolinecolor": "white",
           "zerolinewidth": 2
          }
         }
        },
        "title": {
         "text": "Producción de Aceite a lo largo del tiempo"
        },
        "xaxis": {
         "anchor": "y",
         "domain": [
          0,
          1
         ],
         "title": {
          "font": {
           "family": "Arial",
           "size": 16
          },
          "text": "Fecha"
         }
        },
        "yaxis": {
         "anchor": "x",
         "domain": [
          0,
          1
         ],
         "title": {
          "font": {
           "family": "Arial",
           "size": 16
          },
          "text": "Producción de Aceite (bbl/d)"
         }
        }
       }
      }
     },
     "metadata": {},
     "output_type": "display_data"
    }
   ],
   "source": [
    "# Visualizar los resultados para qoP\n",
    "fig_qoP = px.line(df_, x='Fecha', y='qoP [bbl/DC]', title='Producción de Aceite a lo largo del tiempo',markers='*')\n",
    "fig_qoP.update_traces(line=dict(color='green'))\n",
    "fig_qoP.add_trace(go.Scatter(x=df['Fecha'], y=df['qo_pred_exp'], mode='lines', name='Data Ajuste exp qo', line=dict(color='red', dash='dash')))\n",
    "fig_qoP.add_trace(go.Scatter(x=df['Fecha'], y=df['qo_pred_hyp'], mode='lines', name='Data Ajuste qo', line=dict(color='blue', dash='dash')))\n",
    "fig_qoP.add_trace(go.Scatter(x=df['Fecha'], y=df['qo_pred_arm'], mode='lines', name='Data Ajuste arm qwP', line=dict(color='purple', dash='dash')))\n",
    "fig_qoP.add_trace(go.Scatter(x=df_pred['Fecha'], y=df_pred['qo_pred_exp'], mode='lines', name='Predicción exp qo', line=dict(color='pink', dash='dash')))\n",
    "fig_qoP.add_trace(go.Scatter(x=df_pred['Fecha'], y=df_pred['qo_pred_hyp'], mode='lines', name='Predicción hyp qo', line=dict(color='lightblue', dash='dash')))\n",
    "fig_qoP.add_trace(go.Scatter(x=df_pred['Fecha'], y=df_pred['qo_pred_arm'], mode='lines', name='Predicción hyp qo', line=dict(color='#D8BFD8', dash='dash')))\n",
    "\n",
    "fig_qoP.update_layout(\n",
    "    legend_title_text='Tipo de Producción',\n",
    "    xaxis_title={'text': 'Fecha', 'font': {'size': 16, 'family': 'Arial'}},\n",
    "    yaxis_title={'text': 'Producción de Aceite (bbl/d)', 'font': {'size': 16, 'family': 'Arial'}}\n",
    ")\n",
    "fig_qoP.show()"
   ]
  }
 ],
 "metadata": {
  "kernelspec": {
   "display_name": "venv",
   "language": "python",
   "name": "python3"
  },
  "language_info": {
   "codemirror_mode": {
    "name": "ipython",
    "version": 3
   },
   "file_extension": ".py",
   "mimetype": "text/x-python",
   "name": "python",
   "nbconvert_exporter": "python",
   "pygments_lexer": "ipython3",
   "version": "3.12.3"
  }
 },
 "nbformat": 4,
 "nbformat_minor": 2
}
